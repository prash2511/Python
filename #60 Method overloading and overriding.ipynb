{
 "cells": [
  {
   "cell_type": "markdown",
   "id": "capital-month",
   "metadata": {},
   "source": [
    "#Method overloading and method overriding"
   ]
  },
  {
   "cell_type": "markdown",
   "id": "authorized-hayes",
   "metadata": {},
   "source": [
    "Method Overloading"
   ]
  },
  {
   "cell_type": "code",
   "execution_count": 2,
   "id": "suspended-glasgow",
   "metadata": {},
   "outputs": [
    {
     "name": "stdout",
     "output_type": "stream",
     "text": [
      "15\n"
     ]
    }
   ],
   "source": [
    "class student:\n",
    "    \n",
    "    def __init__(self, m1, m2):\n",
    "        self.m1 = m1\n",
    "        self.m2 = m2\n",
    "        \n",
    "    def sum(self, a, b):\n",
    "        s = a + b\n",
    "        return s\n",
    "        \n",
    "        \n",
    "s1 = student(58, 69)\n",
    "\n",
    "print(s1.sum(8,7))"
   ]
  },
  {
   "cell_type": "code",
   "execution_count": 3,
   "id": "killing-roulette",
   "metadata": {},
   "outputs": [
    {
     "name": "stdout",
     "output_type": "stream",
     "text": [
      "20\n"
     ]
    }
   ],
   "source": [
    "class student:\n",
    "    \n",
    "    def __init__(self, m1, m2):\n",
    "        self.m1 = m1\n",
    "        self.m2 = m2\n",
    "        \n",
    "    def sum(self, a, b, c):\n",
    "        s = a + b + c\n",
    "        return s\n",
    "        \n",
    "        \n",
    "s1 = student(58, 69)\n",
    "\n",
    "print(s1.sum(8,7,5))"
   ]
  },
  {
   "cell_type": "code",
   "execution_count": 6,
   "id": "vietnamese-sleep",
   "metadata": {},
   "outputs": [
    {
     "name": "stdout",
     "output_type": "stream",
     "text": [
      "22\n"
     ]
    }
   ],
   "source": [
    "class student:\n",
    "    \n",
    "    def __init__(self, m1, m2):\n",
    "        self.m1 = m1\n",
    "        self.m2 = m2\n",
    "        \n",
    "    def sum(self, a = None, b = None, c = None):\n",
    "        s = a + b + c\n",
    "        return s\n",
    "        \n",
    "        \n",
    "s1 = student(58, 69)\n",
    "\n",
    "print(s1.sum(8,9,5))"
   ]
  },
  {
   "cell_type": "code",
   "execution_count": 3,
   "id": "organizational-tuner",
   "metadata": {},
   "outputs": [
    {
     "name": "stdout",
     "output_type": "stream",
     "text": [
      "8\n",
      "12\n",
      "16\n"
     ]
    }
   ],
   "source": [
    " class student:\n",
    "    \n",
    "    def __init__(self, m1, m2):\n",
    "        self.m1 = m1\n",
    "        self.m2 = m2\n",
    "        \n",
    "    def sum(self, a = None, b = None, c = None):\n",
    "        \n",
    "        s = 0\n",
    "        if a != None and b != None and c != None:\n",
    "            s = a + b + c\n",
    "        elif a != None and b != None:\n",
    "            s = a + b\n",
    "        else:\n",
    "            s = a\n",
    "            \n",
    "        return s\n",
    "        \n",
    "        \n",
    "s1 = student(58, 69)\n",
    "\n",
    "print(s1.sum(8))\n",
    "\n",
    "print(s1.sum(8,4))\n",
    "\n",
    "print(s1.sum(8,6,2))"
   ]
  },
  {
   "cell_type": "markdown",
   "id": "great-harvest",
   "metadata": {},
   "source": [
    "Method Overriding"
   ]
  },
  {
   "cell_type": "code",
   "execution_count": 12,
   "id": "civil-bacon",
   "metadata": {},
   "outputs": [
    {
     "name": "stdout",
     "output_type": "stream",
     "text": [
      "In a show\n"
     ]
    }
   ],
   "source": [
    "class A:\n",
    "    \n",
    "    def show(self):\n",
    "        print('In a show')\n",
    "        \n",
    "class B(A):\n",
    "    \n",
    "    def show(self):\n",
    "        print('In b show')\n",
    "        \n",
    "            \n",
    "a = A()\n",
    "a.show()"
   ]
  },
  {
   "cell_type": "code",
   "execution_count": 11,
   "id": "preceding-attitude",
   "metadata": {},
   "outputs": [
    {
     "name": "stdout",
     "output_type": "stream",
     "text": [
      "In a show\n"
     ]
    }
   ],
   "source": [
    "class A:\n",
    "    \n",
    "    def show(self):\n",
    "        print('In a show')\n",
    "        \n",
    "class B(A):\n",
    "    pass\n",
    "   \n",
    "    \n",
    "a = B()\n",
    "a.show()"
   ]
  },
  {
   "cell_type": "code",
   "execution_count": 14,
   "id": "similar-offense",
   "metadata": {},
   "outputs": [
    {
     "name": "stdout",
     "output_type": "stream",
     "text": [
      "In b show\n"
     ]
    }
   ],
   "source": [
    "class A:\n",
    "    \n",
    "    def show(self):\n",
    "        print('In a show')\n",
    "        \n",
    "class B(A):\n",
    "    \n",
    "    def show(self):                   #class B overrides class A function\n",
    "        print('In b show')\n",
    "        \n",
    "             \n",
    "a = B()\n",
    "a.show()"
   ]
  },
  {
   "cell_type": "code",
   "execution_count": null,
   "id": "better-expression",
   "metadata": {},
   "outputs": [],
   "source": []
  }
 ],
 "metadata": {
  "kernelspec": {
   "display_name": "Python 3",
   "language": "python",
   "name": "python3"
  },
  "language_info": {
   "codemirror_mode": {
    "name": "ipython",
    "version": 3
   },
   "file_extension": ".py",
   "mimetype": "text/x-python",
   "name": "python",
   "nbconvert_exporter": "python",
   "pygments_lexer": "ipython3",
   "version": "3.8.5"
  }
 },
 "nbformat": 4,
 "nbformat_minor": 5
}
