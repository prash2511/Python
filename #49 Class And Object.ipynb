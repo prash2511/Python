{
 "cells": [
  {
   "cell_type": "markdown",
   "id": "cloudy-beatles",
   "metadata": {},
   "source": [
    "Class and Object\n",
    "\n",
    "#Attrubutes ---> variables\n",
    "\n",
    "#Behaviour ---> methods(function)"
   ]
  },
  {
   "cell_type": "code",
   "execution_count": 6,
   "id": "derived-comparison",
   "metadata": {},
   "outputs": [
    {
     "name": "stdout",
     "output_type": "stream",
     "text": [
      "i5, 16gb, 1TB\n",
      "i5, 16gb, 1TB\n"
     ]
    }
   ],
   "source": [
    "class computer:\n",
    "    def config(self):\n",
    "        print('i5, 16gb, 1TB')\n",
    "        \n",
    "    \n",
    "com1 = computer()\n",
    "com2 = computer()\n",
    "\n",
    "computer.config(com1)\n",
    "computer.config(com2)"
   ]
  },
  {
   "cell_type": "code",
   "execution_count": 7,
   "id": "oriental-construction",
   "metadata": {},
   "outputs": [
    {
     "name": "stdout",
     "output_type": "stream",
     "text": [
      "i5, 16gb, 1TB\n",
      "i5, 16gb, 1TB\n"
     ]
    }
   ],
   "source": [
    "class computer:\n",
    "    def config(self):\n",
    "        print('i5, 16gb, 1TB')\n",
    "        \n",
    "    \n",
    "com1 = computer()\n",
    "com2 = computer()\n",
    "\n",
    "com1.config()\n",
    "com2.config()"
   ]
  },
  {
   "cell_type": "code",
   "execution_count": null,
   "id": "smooth-titanium",
   "metadata": {},
   "outputs": [],
   "source": []
  }
 ],
 "metadata": {
  "kernelspec": {
   "display_name": "Python 3",
   "language": "python",
   "name": "python3"
  },
  "language_info": {
   "codemirror_mode": {
    "name": "ipython",
    "version": 3
   },
   "file_extension": ".py",
   "mimetype": "text/x-python",
   "name": "python",
   "nbconvert_exporter": "python",
   "pygments_lexer": "ipython3",
   "version": "3.8.5"
  }
 },
 "nbformat": 4,
 "nbformat_minor": 5
}
