{
 "cells": [
  {
   "cell_type": "markdown",
   "id": "respected-detective",
   "metadata": {},
   "source": [
    "Function Arguments in Python"
   ]
  },
  {
   "cell_type": "code",
   "execution_count": 4,
   "id": "interpreted-marks",
   "metadata": {},
   "outputs": [
    {
     "name": "stdout",
     "output_type": "stream",
     "text": [
      "140716232616000\n",
      "8\n",
      "140716232616000\n",
      "10\n"
     ]
    }
   ],
   "source": [
    "def update(x):\n",
    "    print(id(x))\n",
    "    x = 8\n",
    "    \n",
    "    print(x)\n",
    "    \n",
    "a = 10 \n",
    "update(a)\n",
    "print(id(a))\n",
    "print(a)"
   ]
  },
  {
   "cell_type": "code",
   "execution_count": 5,
   "id": "sixth-mongolia",
   "metadata": {},
   "outputs": [
    {
     "name": "stdout",
     "output_type": "stream",
     "text": [
      "2466983892672\n",
      "[10, 25, 30]\n",
      "2466983892672\n",
      "[10, 25, 30]\n"
     ]
    }
   ],
   "source": [
    "def update(lst):\n",
    "    print(id(lst))\n",
    "    \n",
    "    lst[1] = 25\n",
    "    \n",
    "    print(lst)\n",
    "    \n",
    "    \n",
    "lst = [10, 20, 30]\n",
    "\n",
    "update(lst)\n",
    "print(id(lst))\n",
    "print(lst)"
   ]
  },
  {
   "cell_type": "code",
   "execution_count": null,
   "id": "funny-tenant",
   "metadata": {},
   "outputs": [],
   "source": []
  }
 ],
 "metadata": {
  "kernelspec": {
   "display_name": "Python 3",
   "language": "python",
   "name": "python3"
  },
  "language_info": {
   "codemirror_mode": {
    "name": "ipython",
    "version": 3
   },
   "file_extension": ".py",
   "mimetype": "text/x-python",
   "name": "python",
   "nbconvert_exporter": "python",
   "pygments_lexer": "ipython3",
   "version": "3.8.5"
  }
 },
 "nbformat": 4,
 "nbformat_minor": 5
}
