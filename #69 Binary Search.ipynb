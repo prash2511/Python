{
 "cells": [
  {
   "cell_type": "markdown",
   "id": "focal-development",
   "metadata": {},
   "source": [
    "Binary Search using Python"
   ]
  },
  {
   "cell_type": "code",
   "execution_count": null,
   "id": "acoustic-anchor",
   "metadata": {},
   "outputs": [],
   "source": [
    "pos = -1\n",
    "\n",
    "\n",
    "def binarySearch(lst, n):\n",
    "    \n",
    "    l = 0\n",
    "    u = len(lst) - 1\n",
    "    i = 0\n",
    "    \n",
    "    while l < u:\n",
    "        \n",
    "        mid = (l + u) // 2\n",
    "        \n",
    "        if lst[mid] == n:\n",
    "            globals()['pos'] = mid\n",
    "            return True\n",
    "        else:\n",
    "            if lst[mid] < n:\n",
    "                l = mid + 1\n",
    "            else:\n",
    "                u = mid - 1\n",
    "    return  False\n",
    "    \n",
    "    \n",
    "lst = [2,4,5,6,7,8,9,12,17,20]\n",
    "n = int(input('Enter a number to search: '))\n",
    "    \n",
    "if binarySearch(lst, n):\n",
    "    print('Found at ', pos)\n",
    "else:\n",
    "    print('Not Found')\n"
   ]
  },
  {
   "cell_type": "code",
   "execution_count": null,
   "id": "fewer-patent",
   "metadata": {},
   "outputs": [],
   "source": []
  }
 ],
 "metadata": {
  "kernelspec": {
   "display_name": "Python 3",
   "language": "python",
   "name": "python3"
  },
  "language_info": {
   "codemirror_mode": {
    "name": "ipython",
    "version": 3
   },
   "file_extension": ".py",
   "mimetype": "text/x-python",
   "name": "python",
   "nbconvert_exporter": "python",
   "pygments_lexer": "ipython3",
   "version": "3.8.5"
  }
 },
 "nbformat": 4,
 "nbformat_minor": 5
}
