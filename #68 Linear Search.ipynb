{
 "cells": [
  {
   "cell_type": "markdown",
   "id": "clean-confidentiality",
   "metadata": {},
   "source": [
    "Linear Search using Python"
   ]
  },
  {
   "cell_type": "code",
   "execution_count": 1,
   "id": "urban-therapy",
   "metadata": {},
   "outputs": [
    {
     "name": "stdout",
     "output_type": "stream",
     "text": [
      "Found\n"
     ]
    }
   ],
   "source": [
    "lst = [5, 8, 4, 6, 9, 2]\n",
    "n = 9\n",
    "\n",
    "def search(lst, n):\n",
    "    i = 0\n",
    "    \n",
    "    while i < len(lst):\n",
    "        if lst[i] == n:\n",
    "            return True\n",
    "        i = i + 1\n",
    "    \n",
    "    return False\n",
    "    \n",
    "\n",
    "if search(lst, n):\n",
    "    print('Found')\n",
    "else:\n",
    "    print('Not Found')"
   ]
  },
  {
   "cell_type": "code",
   "execution_count": 2,
   "id": "structural-beads",
   "metadata": {},
   "outputs": [
    {
     "name": "stdout",
     "output_type": "stream",
     "text": [
      "Not Found\n"
     ]
    }
   ],
   "source": [
    "lst = [5, 8, 4, 6, 1, 2]\n",
    "n = 9\n",
    "\n",
    "def search(lst, n):\n",
    "    i = 0\n",
    "    \n",
    "    while i < len(lst):\n",
    "        if lst[i] == n:\n",
    "            return True\n",
    "        i = i + 1\n",
    "    \n",
    "    return False\n",
    "    \n",
    "\n",
    "if search(lst, n):\n",
    "    print('Found')\n",
    "else:\n",
    "    print('Not Found')"
   ]
  },
  {
   "cell_type": "code",
   "execution_count": 4,
   "id": "appreciated-attribute",
   "metadata": {},
   "outputs": [
    {
     "name": "stdout",
     "output_type": "stream",
     "text": [
      "Found at  4\n"
     ]
    }
   ],
   "source": [
    "pos = -1\n",
    "\n",
    "lst = [5, 8, 4, 6, 9, 2]\n",
    "n = 9\n",
    "\n",
    "def search(lst, n):\n",
    "    i = 0\n",
    "    \n",
    "    while i < len(lst):\n",
    "        if lst[i] == n:\n",
    "            globals()['pos'] = i\n",
    "            return True\n",
    "        i = i + 1\n",
    "    \n",
    "    return False\n",
    "    \n",
    "\n",
    "if search(lst, n):\n",
    "    print('Found at ', pos)\n",
    "else:\n",
    "    print('Not Found')"
   ]
  },
  {
   "cell_type": "code",
   "execution_count": 7,
   "id": "muslim-toyota",
   "metadata": {},
   "outputs": [
    {
     "name": "stdout",
     "output_type": "stream",
     "text": [
      "Found at  4\n"
     ]
    }
   ],
   "source": [
    "pos = -1\n",
    "\n",
    "lst = [5, 8, 4, 6, 9, 2]\n",
    "n = 9\n",
    "\n",
    "def search(lst, n):\n",
    "    i = 0\n",
    "    \n",
    "    for i in range(len(lst)):                    #using for loop\n",
    "        if lst[i] == n:\n",
    "            globals()['pos'] = i\n",
    "            return True\n",
    "    \n",
    "    return False\n",
    "    \n",
    "\n",
    "if search(lst, n):\n",
    "    print('Found at ', pos)\n",
    "else:\n",
    "    print('Not Found')"
   ]
  },
  {
   "cell_type": "code",
   "execution_count": null,
   "id": "described-layout",
   "metadata": {},
   "outputs": [],
   "source": []
  }
 ],
 "metadata": {
  "kernelspec": {
   "display_name": "Python 3",
   "language": "python",
   "name": "python3"
  },
  "language_info": {
   "codemirror_mode": {
    "name": "ipython",
    "version": 3
   },
   "file_extension": ".py",
   "mimetype": "text/x-python",
   "name": "python",
   "nbconvert_exporter": "python",
   "pygments_lexer": "ipython3",
   "version": "3.8.5"
  }
 },
 "nbformat": 4,
 "nbformat_minor": 5
}
