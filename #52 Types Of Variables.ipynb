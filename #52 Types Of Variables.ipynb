{
 "cells": [
  {
   "cell_type": "markdown",
   "id": "raising-morrison",
   "metadata": {},
   "source": [
    "Types of Variables in Python\n",
    "\n",
    "1] Instance Varible\n",
    "\n",
    "2] Class(Static) Varible"
   ]
  },
  {
   "cell_type": "code",
   "execution_count": 5,
   "id": "possible-watch",
   "metadata": {},
   "outputs": [
    {
     "name": "stdout",
     "output_type": "stream",
     "text": [
      "BMW 10\n",
      "BMW 10\n"
     ]
    }
   ],
   "source": [
    "class car:\n",
    "    \n",
    "    def __init__(self):\n",
    "        \n",
    "        self.mil = 10\n",
    "        self.com = 'BMW'\n",
    "        \n",
    "c1 = car()\n",
    "c2 = car()\n",
    "\n",
    "print(c1.com, c1.mil)\n",
    "print(c2.com, c2.mil)"
   ]
  },
  {
   "cell_type": "code",
   "execution_count": 9,
   "id": "round-frederick",
   "metadata": {},
   "outputs": [
    {
     "name": "stdout",
     "output_type": "stream",
     "text": [
      "BMW 20\n",
      "BMW 10\n"
     ]
    }
   ],
   "source": [
    "class car:\n",
    "    \n",
    "    def __init__(self):\n",
    "        \n",
    "        self.mil = 10\n",
    "        self.com = 'BMW'\n",
    "        \n",
    "c1 = car()\n",
    "c2 = car()\n",
    "\n",
    "c1.mil = 20\n",
    "\n",
    "print(c1.com, c1.mil)\n",
    "print(c2.com, c2.mil)"
   ]
  },
  {
   "cell_type": "code",
   "execution_count": 8,
   "id": "numerous-mentor",
   "metadata": {},
   "outputs": [
    {
     "name": "stdout",
     "output_type": "stream",
     "text": [
      "BMW 20 4\n",
      "BMW 10 4\n"
     ]
    }
   ],
   "source": [
    "class car:\n",
    "    \n",
    "    wheels = 4                         #Class Variable { wheels = 4 }\n",
    "    \n",
    "    def __init__(self):\n",
    "        \n",
    "        self.mil = 10                  #Instance Variables { mil = 10\n",
    "        self.com = 'BMW'               #                     com = BMW }\n",
    "        \n",
    "c1 = car()\n",
    "c2 = car()\n",
    "\n",
    "c1.mil = 20\n",
    "\n",
    "print(c1.com, c1.mil, c1.wheels)\n",
    "print(c2.com, c2.mil, c2.wheels)"
   ]
  },
  {
   "cell_type": "markdown",
   "id": "steady-marriage",
   "metadata": {},
   "source": [
    "namespace is an area where you create and store object/variable\n",
    "\n",
    "Types of namespace\n",
    "\n",
    "-Class namespace\n",
    "\n",
    "-Object/Instance namespace"
   ]
  },
  {
   "cell_type": "code",
   "execution_count": 10,
   "id": "clinical-parking",
   "metadata": {},
   "outputs": [
    {
     "name": "stdout",
     "output_type": "stream",
     "text": [
      "BMW 20 5\n",
      "BMW 10 5\n"
     ]
    }
   ],
   "source": [
    "class car:\n",
    "    \n",
    "    wheels = 4                         #Class Variable { wheels = 4 }\n",
    "    \n",
    "    def __init__(self):\n",
    "        \n",
    "        self.mil = 10                  #Instance Variables { mil = 10\n",
    "        self.com = 'BMW'               #                     com = BMW }\n",
    "        \n",
    "c1 = car()\n",
    "c2 = car()\n",
    "\n",
    "c1.mil = 20\n",
    "\n",
    "car.wheels = 5\n",
    "\n",
    "print(c1.com, c1.mil, c1.wheels)\n",
    "print(c2.com, c2.mil, c2.wheels)"
   ]
  },
  {
   "cell_type": "code",
   "execution_count": null,
   "id": "small-argument",
   "metadata": {},
   "outputs": [],
   "source": []
  }
 ],
 "metadata": {
  "kernelspec": {
   "display_name": "Python 3",
   "language": "python",
   "name": "python3"
  },
  "language_info": {
   "codemirror_mode": {
    "name": "ipython",
    "version": 3
   },
   "file_extension": ".py",
   "mimetype": "text/x-python",
   "name": "python",
   "nbconvert_exporter": "python",
   "pygments_lexer": "ipython3",
   "version": "3.8.5"
  }
 },
 "nbformat": 4,
 "nbformat_minor": 5
}
