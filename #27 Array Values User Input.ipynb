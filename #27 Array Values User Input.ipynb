{
 "cells": [
  {
   "cell_type": "markdown",
   "id": "decent-tuning",
   "metadata": {},
   "source": [
    "Array values from user input"
   ]
  },
  {
   "cell_type": "code",
   "execution_count": 2,
   "id": "immune-giving",
   "metadata": {},
   "outputs": [
    {
     "name": "stdout",
     "output_type": "stream",
     "text": [
      "Enter lenght of array: 4\n",
      "Enter next Value: 2\n",
      "Enter next Value: 3\n",
      "Enter next Value: 5\n",
      "Enter next Value: 8\n",
      "array('i', [2, 3, 5, 8])\n"
     ]
    }
   ],
   "source": [
    "from array import*\n",
    "\n",
    "arr = array('i',[])\n",
    "\n",
    "n = int(input('Enter lenght of array: '))\n",
    "\n",
    "for i in range(n):\n",
    "    x = int(input('Enter next Value: '))\n",
    "    arr.append(x)\n",
    "\n",
    "print(arr)"
   ]
  },
  {
   "cell_type": "code",
   "execution_count": 10,
   "id": "involved-checkout",
   "metadata": {},
   "outputs": [
    {
     "name": "stdout",
     "output_type": "stream",
     "text": [
      "Enter value to be searched: 8\n",
      "Found at  3\n"
     ]
    }
   ],
   "source": [
    "f = int(input('Enter value to be searched: '))\n",
    "f0 = 0\n",
    "\n",
    "for val in arr:\n",
    "    if val == f:\n",
    "        print('Found at ', f0)\n",
    "        break\n",
    "    f0 = f0 + 1\n"
   ]
  },
  {
   "cell_type": "code",
   "execution_count": 12,
   "id": "specialized-seeking",
   "metadata": {},
   "outputs": [
    {
     "name": "stdout",
     "output_type": "stream",
     "text": [
      "Enter value to be searched: 5\n",
      "2\n"
     ]
    }
   ],
   "source": [
    "b = int(input('Enter value to be searched: '))\n",
    "\n",
    "print(arr.index(b))"
   ]
  },
  {
   "cell_type": "code",
   "execution_count": null,
   "id": "acute-working",
   "metadata": {},
   "outputs": [],
   "source": []
  }
 ],
 "metadata": {
  "kernelspec": {
   "display_name": "Python 3",
   "language": "python",
   "name": "python3"
  },
  "language_info": {
   "codemirror_mode": {
    "name": "ipython",
    "version": 3
   },
   "file_extension": ".py",
   "mimetype": "text/x-python",
   "name": "python",
   "nbconvert_exporter": "python",
   "pygments_lexer": "ipython3",
   "version": "3.8.5"
  }
 },
 "nbformat": 4,
 "nbformat_minor": 5
}
