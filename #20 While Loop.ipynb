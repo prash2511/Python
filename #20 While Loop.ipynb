{
 "cells": [
  {
   "cell_type": "markdown",
   "id": "computational-belarus",
   "metadata": {},
   "source": [
    "While Loop"
   ]
  },
  {
   "cell_type": "code",
   "execution_count": null,
   "id": "accessible-cisco",
   "metadata": {},
   "outputs": [],
   "source": [
    "i = 1\n",
    "\n",
    "while i <= 5:\n",
    "    print('Prashant')\n",
    "    i = i + 1\n",
    "    \n",
    "    \n",
    "#this will print 'prashant' 5 times"
   ]
  },
  {
   "cell_type": "code",
   "execution_count": null,
   "id": "green-anderson",
   "metadata": {},
   "outputs": [],
   "source": [
    "i = 1\n",
    "\n",
    "while i <= 5:\n",
    "    print('Prashant', end = '')\n",
    "    \n",
    "    j = 1\n",
    "    while j <= 5:\n",
    "        print(' Rockstar ', end = '')\n",
    "        j = j + 1\n",
    "    \n",
    "    i = i + 1\n",
    "    print()"
   ]
  },
  {
   "cell_type": "code",
   "execution_count": null,
   "id": "persistent-despite",
   "metadata": {},
   "outputs": [],
   "source": []
  }
 ],
 "metadata": {
  "kernelspec": {
   "display_name": "Python 3",
   "language": "python",
   "name": "python3"
  },
  "language_info": {
   "codemirror_mode": {
    "name": "ipython",
    "version": 3
   },
   "file_extension": ".py",
   "mimetype": "text/x-python",
   "name": "python",
   "nbconvert_exporter": "python",
   "pygments_lexer": "ipython3",
   "version": "3.8.5"
  }
 },
 "nbformat": 4,
 "nbformat_minor": 5
}
