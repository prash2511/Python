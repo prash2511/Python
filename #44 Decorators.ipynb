{
 "cells": [
  {
   "cell_type": "markdown",
   "id": "marine-despite",
   "metadata": {},
   "source": [
    "Decorators in Python"
   ]
  },
  {
   "cell_type": "code",
   "execution_count": 4,
   "id": "particular-oxygen",
   "metadata": {},
   "outputs": [
    {
     "name": "stdout",
     "output_type": "stream",
     "text": [
      "5.0\n"
     ]
    }
   ],
   "source": [
    "def div(a,b):\n",
    "    if a > b:\n",
    "        print(a/b)\n",
    "    else:\n",
    "        temp = a\n",
    "        a = b\n",
    "        b = temp\n",
    "        print(a/b)\n",
    "        \n",
    "\n",
    "div(10,2)"
   ]
  },
  {
   "cell_type": "code",
   "execution_count": 6,
   "id": "third-fitting",
   "metadata": {},
   "outputs": [
    {
     "name": "stdout",
     "output_type": "stream",
     "text": [
      "3.0\n"
     ]
    }
   ],
   "source": [
    "def div(a,b):\n",
    "    if a > b:\n",
    "        print(a/b)\n",
    "    else:\n",
    "        temp = a\n",
    "        a = b\n",
    "        b = temp\n",
    "        print(a/b)\n",
    "        \n",
    "\n",
    "div(4,12)"
   ]
  },
  {
   "cell_type": "code",
   "execution_count": 7,
   "id": "careful-nancy",
   "metadata": {},
   "outputs": [
    {
     "name": "stdout",
     "output_type": "stream",
     "text": [
      "6.0\n"
     ]
    }
   ],
   "source": [
    "def div(a,b):\n",
    "    if a > b:\n",
    "        print(a/b)\n",
    "    else:\n",
    "        a,b = b,a\n",
    "        print(a/b)\n",
    "        \n",
    "\n",
    "div(2,12)"
   ]
  },
  {
   "cell_type": "code",
   "execution_count": 10,
   "id": "female-delay",
   "metadata": {},
   "outputs": [
    {
     "name": "stdout",
     "output_type": "stream",
     "text": [
      "3.0\n"
     ]
    }
   ],
   "source": [
    "\n",
    "#using decorator\n",
    "\n",
    "def div(a,b):\n",
    "    print(a/b)\n",
    "    \n",
    "\n",
    "def smart_div(func):\n",
    "    \n",
    "    def inner(a,b):\n",
    "        if a < b:\n",
    "            a,b = b,a\n",
    "        return func(a,b)\n",
    "    \n",
    "    \n",
    "    return inner\n",
    "\n",
    "div = smart_div(div)\n",
    "\n",
    "div(3,9)\n"
   ]
  },
  {
   "cell_type": "code",
   "execution_count": null,
   "id": "exempt-modern",
   "metadata": {},
   "outputs": [],
   "source": []
  }
 ],
 "metadata": {
  "kernelspec": {
   "display_name": "Python 3",
   "language": "python",
   "name": "python3"
  },
  "language_info": {
   "codemirror_mode": {
    "name": "ipython",
    "version": 3
   },
   "file_extension": ".py",
   "mimetype": "text/x-python",
   "name": "python",
   "nbconvert_exporter": "python",
   "pygments_lexer": "ipython3",
   "version": "3.8.5"
  }
 },
 "nbformat": 4,
 "nbformat_minor": 5
}
