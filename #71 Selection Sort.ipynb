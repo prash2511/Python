{
 "cells": [
  {
   "cell_type": "markdown",
   "id": "mobile-aaron",
   "metadata": {},
   "source": [
    "Selection Sort using Python"
   ]
  },
  {
   "cell_type": "code",
   "execution_count": 13,
   "id": "abstract-north",
   "metadata": {},
   "outputs": [
    {
     "name": "stdout",
     "output_type": "stream",
     "text": [
      "[1, 2, 3, 4, 5, 6, 7, 8, 9]\n"
     ]
    }
   ],
   "source": [
    "lst = [4,3,6,8,1,2,9,5,7]\n",
    "\n",
    "\n",
    "def sort(lst):\n",
    "    \n",
    "    for i in range(len(lst)-1):\n",
    "        minpos = i\n",
    "        for j in range(i,len(lst)):\n",
    "            if lst[j] < lst[minpos]:\n",
    "                minpos = j\n",
    "                \n",
    "        temp = lst[i]\n",
    "        lst[i] = lst[minpos]\n",
    "        lst[minpos] = temp\n",
    "    \n",
    "            \n",
    "\n",
    "sort(lst)\n",
    "            \n",
    "            \n",
    "print(lst)\n",
    "        "
   ]
  },
  {
   "cell_type": "code",
   "execution_count": 17,
   "id": "french-folks",
   "metadata": {},
   "outputs": [
    {
     "name": "stdout",
     "output_type": "stream",
     "text": [
      "[1, 3, 6, 8, 4, 2, 9, 5, 7]\n",
      "[1, 2, 6, 8, 4, 3, 9, 5, 7]\n",
      "[1, 2, 3, 8, 4, 6, 9, 5, 7]\n",
      "[1, 2, 3, 4, 8, 6, 9, 5, 7]\n",
      "[1, 2, 3, 4, 5, 6, 9, 8, 7]\n",
      "[1, 2, 3, 4, 5, 6, 9, 8, 7]\n",
      "[1, 2, 3, 4, 5, 6, 7, 8, 9]\n",
      "[1, 2, 3, 4, 5, 6, 7, 8, 9]\n"
     ]
    }
   ],
   "source": [
    "lst = [4,3,6,8,1,2,9,5,7]\n",
    "\n",
    "\n",
    "def sort(lst):\n",
    "    \n",
    "    for i in range(len(lst)-1):\n",
    "        minpos = i\n",
    "        for j in range(i,len(lst)):\n",
    "            if lst[j] < lst[minpos]:\n",
    "                minpos = j\n",
    "                \n",
    "        temp = lst[i]\n",
    "        lst[i] = lst[minpos]\n",
    "        lst[minpos] = temp\n",
    "    \n",
    "        print(lst)                #printing after each iteration\n",
    "\n",
    "sort(lst)\n",
    "        "
   ]
  },
  {
   "cell_type": "code",
   "execution_count": null,
   "id": "differential-privilege",
   "metadata": {},
   "outputs": [],
   "source": []
  }
 ],
 "metadata": {
  "kernelspec": {
   "display_name": "Python 3",
   "language": "python",
   "name": "python3"
  },
  "language_info": {
   "codemirror_mode": {
    "name": "ipython",
    "version": 3
   },
   "file_extension": ".py",
   "mimetype": "text/x-python",
   "name": "python",
   "nbconvert_exporter": "python",
   "pygments_lexer": "ipython3",
   "version": "3.8.5"
  }
 },
 "nbformat": 4,
 "nbformat_minor": 5
}
