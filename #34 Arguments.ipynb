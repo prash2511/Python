{
 "cells": [
  {
   "cell_type": "markdown",
   "id": "occupational-recording",
   "metadata": {},
   "source": [
    "Types of Arguments in Python"
   ]
  },
  {
   "cell_type": "code",
   "execution_count": 1,
   "id": "metropolitan-concert",
   "metadata": {},
   "outputs": [
    {
     "data": {
      "text/plain": [
       "13"
      ]
     },
     "execution_count": 1,
     "metadata": {},
     "output_type": "execute_result"
    }
   ],
   "source": [
    "def add(a,b):                                #a and b are formal arguments\n",
    "    c = a + b\n",
    "    return c\n",
    "\n",
    "add(5,8)                                     #5 and 8 are actual arguments"
   ]
  },
  {
   "cell_type": "markdown",
   "id": "spectacular-screw",
   "metadata": {},
   "source": [
    "###Actual Arguments types: \n",
    "* Position\n",
    "* Keyword\n",
    "* Default \n",
    "* Variable Length"
   ]
  },
  {
   "cell_type": "code",
   "execution_count": 3,
   "id": "geographic-hawaiian",
   "metadata": {},
   "outputs": [
    {
     "name": "stdout",
     "output_type": "stream",
     "text": [
      "Name is prash\n",
      "Age is 21\n"
     ]
    }
   ],
   "source": [
    "def person(name, age):\n",
    "    print('Name is', name)\n",
    "    print('Age is', age)\n",
    "    \n",
    "person('prash', 21)                          #position arguments"
   ]
  },
  {
   "cell_type": "code",
   "execution_count": 6,
   "id": "exceptional-pasta",
   "metadata": {},
   "outputs": [
    {
     "name": "stdout",
     "output_type": "stream",
     "text": [
      "Name is prash\n",
      "Age is 21\n"
     ]
    }
   ],
   "source": [
    "def person(name, age):\n",
    "    print('Name is', name)\n",
    "    print('Age is', age)\n",
    "    \n",
    "person(name = 'prash', age = 21)             #keyword arguments"
   ]
  },
  {
   "cell_type": "code",
   "execution_count": 9,
   "id": "grave-contributor",
   "metadata": {},
   "outputs": [
    {
     "name": "stdout",
     "output_type": "stream",
     "text": [
      "Name is prash\n",
      "Age is 18\n"
     ]
    }
   ],
   "source": [
    "def person(name, age = 18):\n",
    "    print('Name is', name)\n",
    "    print('Age is', age)\n",
    "    \n",
    "person('prash')                              #default arguments will print if value not given"
   ]
  },
  {
   "cell_type": "code",
   "execution_count": 8,
   "id": "failing-circle",
   "metadata": {},
   "outputs": [
    {
     "name": "stdout",
     "output_type": "stream",
     "text": [
      "Name is prash\n",
      "Age is 21\n"
     ]
    }
   ],
   "source": [
    "def person(name, age = 18):\n",
    "    print('Name is', name)\n",
    "    print('Age is', age)\n",
    "    \n",
    "person('prash', 21)                          #default argument is overwritten if value passed"
   ]
  },
  {
   "cell_type": "code",
   "execution_count": 13,
   "id": "daily-participant",
   "metadata": {},
   "outputs": [
    {
     "data": {
      "text/plain": [
       "20"
      ]
     },
     "execution_count": 13,
     "metadata": {},
     "output_type": "execute_result"
    }
   ],
   "source": [
    "def sum(a, *b):\n",
    "    c = a\n",
    "    for num in b:\n",
    "        c = c + num\n",
    "    return c\n",
    "    \n",
    "sum(2, 6, 8, 4)"
   ]
  },
  {
   "cell_type": "code",
   "execution_count": 15,
   "id": "polar-abuse",
   "metadata": {},
   "outputs": [
    {
     "data": {
      "text/plain": [
       "25"
      ]
     },
     "execution_count": 15,
     "metadata": {},
     "output_type": "execute_result"
    }
   ],
   "source": [
    "def sum(*b):\n",
    "    c = 0\n",
    "    for num in b:\n",
    "        c = c + num\n",
    "    return c\n",
    "    \n",
    "sum(2, 6, 8, 4, 5)"
   ]
  },
  {
   "cell_type": "code",
   "execution_count": null,
   "id": "literary-encounter",
   "metadata": {},
   "outputs": [],
   "source": []
  }
 ],
 "metadata": {
  "kernelspec": {
   "display_name": "Python 3",
   "language": "python",
   "name": "python3"
  },
  "language_info": {
   "codemirror_mode": {
    "name": "ipython",
    "version": 3
   },
   "file_extension": ".py",
   "mimetype": "text/x-python",
   "name": "python",
   "nbconvert_exporter": "python",
   "pygments_lexer": "ipython3",
   "version": "3.8.5"
  }
 },
 "nbformat": 4,
 "nbformat_minor": 5
}
