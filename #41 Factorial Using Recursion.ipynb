{
 "cells": [
  {
   "cell_type": "markdown",
   "id": "adopted-reaction",
   "metadata": {},
   "source": [
    "Factorial Using Recursion"
   ]
  },
  {
   "cell_type": "code",
   "execution_count": 3,
   "id": "spoken-aging",
   "metadata": {},
   "outputs": [
    {
     "name": "stdout",
     "output_type": "stream",
     "text": [
      "24\n"
     ]
    }
   ],
   "source": [
    "\n",
    "def fact(n):\n",
    "    if n == 0:\n",
    "        return 1\n",
    "    \n",
    "    return n * fact(n - 1)\n",
    "\n",
    "result = fact(4)\n",
    "\n",
    "print(result)"
   ]
  },
  {
   "cell_type": "code",
   "execution_count": 5,
   "id": "cubic-rachel",
   "metadata": {},
   "outputs": [
    {
     "name": "stdout",
     "output_type": "stream",
     "text": [
      "Enter number to find factorial: 5\n",
      "120\n"
     ]
    }
   ],
   "source": [
    "\n",
    "n = int(input(\"Enter number to find factorial: \"))\n",
    "\n",
    "def fact(n):\n",
    "    if n == 0:\n",
    "        return 1\n",
    "    \n",
    "    return n * fact(n - 1)\n",
    "\n",
    "result = fact(n)\n",
    "\n",
    "print(result)"
   ]
  },
  {
   "cell_type": "code",
   "execution_count": 6,
   "id": "genetic-fifteen",
   "metadata": {},
   "outputs": [
    {
     "name": "stdout",
     "output_type": "stream",
     "text": [
      "Enter number to find factorial: 6\n",
      "720\n"
     ]
    }
   ],
   "source": [
    "\n",
    "n = int(input(\"Enter number to find factorial: \"))\n",
    "\n",
    "def fact(n):\n",
    "    if n == 0:\n",
    "        return 1\n",
    "    \n",
    "    return n * fact(n - 1)\n",
    "\n",
    "result = fact(n)\n",
    "\n",
    "print(result)"
   ]
  },
  {
   "cell_type": "code",
   "execution_count": 7,
   "id": "stuck-geometry",
   "metadata": {},
   "outputs": [
    {
     "name": "stdout",
     "output_type": "stream",
     "text": [
      "Enter number to find factorial: 3\n",
      "6\n"
     ]
    }
   ],
   "source": [
    "\n",
    "n = int(input(\"Enter number to find factorial: \"))\n",
    "\n",
    "def fact(n):\n",
    "    if n == 0:\n",
    "        return 1\n",
    "    \n",
    "    return n * fact(n - 1)\n",
    "\n",
    "result = fact(n)\n",
    "\n",
    "print(result)"
   ]
  },
  {
   "cell_type": "code",
   "execution_count": null,
   "id": "lonely-richardson",
   "metadata": {},
   "outputs": [],
   "source": []
  }
 ],
 "metadata": {
  "kernelspec": {
   "display_name": "Python 3",
   "language": "python",
   "name": "python3"
  },
  "language_info": {
   "codemirror_mode": {
    "name": "ipython",
    "version": 3
   },
   "file_extension": ".py",
   "mimetype": "text/x-python",
   "name": "python",
   "nbconvert_exporter": "python",
   "pygments_lexer": "ipython3",
   "version": "3.8.5"
  }
 },
 "nbformat": 4,
 "nbformat_minor": 5
}
