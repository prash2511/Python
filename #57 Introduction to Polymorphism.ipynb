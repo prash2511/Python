{
 "cells": [
  {
   "cell_type": "markdown",
   "id": "irish-album",
   "metadata": {},
   "source": [
    "Introduction to Polymorphism:\n",
    "\n",
    "> Duck Typing\n",
    "\n",
    "> Operator Overloading\n",
    "\n",
    "> Method Overloading\n",
    "\n",
    "> Method Overriding"
   ]
  },
  {
   "cell_type": "code",
   "execution_count": null,
   "id": "environmental-venue",
   "metadata": {},
   "outputs": [],
   "source": []
  }
 ],
 "metadata": {
  "kernelspec": {
   "display_name": "Python 3",
   "language": "python",
   "name": "python3"
  },
  "language_info": {
   "codemirror_mode": {
    "name": "ipython",
    "version": 3
   },
   "file_extension": ".py",
   "mimetype": "text/x-python",
   "name": "python",
   "nbconvert_exporter": "python",
   "pygments_lexer": "ipython3",
   "version": "3.8.5"
  }
 },
 "nbformat": 4,
 "nbformat_minor": 5
}
