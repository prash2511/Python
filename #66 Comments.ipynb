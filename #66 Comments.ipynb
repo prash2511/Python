{
 "cells": [
  {
   "cell_type": "markdown",
   "id": "social-october",
   "metadata": {},
   "source": [
    "Comments in Python"
   ]
  },
  {
   "cell_type": "markdown",
   "id": "metropolitan-symbol",
   "metadata": {},
   "source": [
    "#(hash)is used for single line comment.\n",
    "\n",
    "\"\"\" \n",
    "\n",
    "This tripple quotes used for multi - line comments, but dont use it\n",
    "It is used for documentation.\n",
    "\n",
    "\"\"\""
   ]
  },
  {
   "cell_type": "code",
   "execution_count": null,
   "id": "visible-biodiversity",
   "metadata": {},
   "outputs": [],
   "source": []
  }
 ],
 "metadata": {
  "kernelspec": {
   "display_name": "Python 3",
   "language": "python",
   "name": "python3"
  },
  "language_info": {
   "codemirror_mode": {
    "name": "ipython",
    "version": 3
   },
   "file_extension": ".py",
   "mimetype": "text/x-python",
   "name": "python",
   "nbconvert_exporter": "python",
   "pygments_lexer": "ipython3",
   "version": "3.8.5"
  }
 },
 "nbformat": 4,
 "nbformat_minor": 5
}
