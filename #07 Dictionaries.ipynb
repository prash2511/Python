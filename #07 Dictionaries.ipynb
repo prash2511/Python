{
 "cells": [
  {
   "cell_type": "markdown",
   "id": "occupied-ambassador",
   "metadata": {},
   "source": [
    "Dictionaries in Python"
   ]
  },
  {
   "cell_type": "code",
   "execution_count": 1,
   "id": "theoretical-swaziland",
   "metadata": {},
   "outputs": [],
   "source": [
    "data = {1:'prashant', 2:'prash', 3:'ash', 4:'ant'}"
   ]
  },
  {
   "cell_type": "code",
   "execution_count": 2,
   "id": "visible-warren",
   "metadata": {},
   "outputs": [
    {
     "data": {
      "text/plain": [
       "{1: 'prashant', 2: 'prash', 3: 'ash', 4: 'ant'}"
      ]
     },
     "execution_count": 2,
     "metadata": {},
     "output_type": "execute_result"
    }
   ],
   "source": [
    "data"
   ]
  },
  {
   "cell_type": "code",
   "execution_count": 3,
   "id": "adolescent-admission",
   "metadata": {},
   "outputs": [
    {
     "data": {
      "text/plain": [
       "'prashant'"
      ]
     },
     "execution_count": 3,
     "metadata": {},
     "output_type": "execute_result"
    }
   ],
   "source": [
    "data[1]"
   ]
  },
  {
   "cell_type": "code",
   "execution_count": 4,
   "id": "wicked-fusion",
   "metadata": {},
   "outputs": [
    {
     "data": {
      "text/plain": [
       "'prash'"
      ]
     },
     "execution_count": 4,
     "metadata": {},
     "output_type": "execute_result"
    }
   ],
   "source": [
    "data.get(2)"
   ]
  },
  {
   "cell_type": "code",
   "execution_count": 6,
   "id": "supreme-currency",
   "metadata": {},
   "outputs": [
    {
     "data": {
      "text/plain": [
       "'not found'"
      ]
     },
     "execution_count": 6,
     "metadata": {},
     "output_type": "execute_result"
    }
   ],
   "source": [
    "data.get(5, 'not found')"
   ]
  },
  {
   "cell_type": "markdown",
   "id": "introductory-church",
   "metadata": {},
   "source": [
    "Merging 2 lists in Dictionary"
   ]
  },
  {
   "cell_type": "code",
   "execution_count": 10,
   "id": "distinguished-drunk",
   "metadata": {},
   "outputs": [
    {
     "data": {
      "text/plain": [
       "{'prash': 'python', 'ash': 'java', 'ant': 'c++'}"
      ]
     },
     "execution_count": 10,
     "metadata": {},
     "output_type": "execute_result"
    }
   ],
   "source": [
    "keys = ['prash', 'ash', 'ant']\n",
    "values = ['python', 'java', 'c++']\n",
    "\n",
    "comb = dict(zip(keys, values))\n",
    "comb"
   ]
  },
  {
   "cell_type": "code",
   "execution_count": 11,
   "id": "victorian-empty",
   "metadata": {},
   "outputs": [
    {
     "data": {
      "text/plain": [
       "{'prash': 'python', 'ash': 'java', 'ant': 'c++', 'prashant': 'javascript'}"
      ]
     },
     "execution_count": 11,
     "metadata": {},
     "output_type": "execute_result"
    }
   ],
   "source": [
    "comb['prashant'] = 'javascript'\n",
    "comb"
   ]
  },
  {
   "cell_type": "code",
   "execution_count": 18,
   "id": "anonymous-impossible",
   "metadata": {},
   "outputs": [
    {
     "data": {
      "text/plain": [
       "{'prash': 'python', 'ash': 'java', 'prashant': 'javascript'}"
      ]
     },
     "execution_count": 18,
     "metadata": {},
     "output_type": "execute_result"
    }
   ],
   "source": [
    "comb"
   ]
  },
  {
   "cell_type": "code",
   "execution_count": 19,
   "id": "critical-belfast",
   "metadata": {},
   "outputs": [],
   "source": [
    "del comb['ash']"
   ]
  },
  {
   "cell_type": "code",
   "execution_count": 20,
   "id": "sonic-glossary",
   "metadata": {},
   "outputs": [
    {
     "data": {
      "text/plain": [
       "{'prash': 'python', 'prashant': 'javascript'}"
      ]
     },
     "execution_count": 20,
     "metadata": {},
     "output_type": "execute_result"
    }
   ],
   "source": [
    "comb"
   ]
  },
  {
   "cell_type": "markdown",
   "id": "assured-bailey",
   "metadata": {},
   "source": [
    "List in dictionary and dictionary in dictionary"
   ]
  },
  {
   "cell_type": "code",
   "execution_count": 21,
   "id": "changing-thirty",
   "metadata": {},
   "outputs": [
    {
     "data": {
      "text/plain": [
       "{'js': 'atom',\n",
       " 'cs': 'vb',\n",
       " 'python': ['pycharm', 'sublime'],\n",
       " 'java': {'jse': 'netbeans', 'jee': 'eclipse'}}"
      ]
     },
     "execution_count": 21,
     "metadata": {},
     "output_type": "execute_result"
    }
   ],
   "source": [
    "prog = {'js' : 'atom', 'cs' : 'vb', 'python' : ['pycharm', 'sublime'], 'java' : {'jse' : 'netbeans', 'jee' : 'eclipse'}}\n",
    "prog"
   ]
  },
  {
   "cell_type": "code",
   "execution_count": 23,
   "id": "passive-asbestos",
   "metadata": {},
   "outputs": [
    {
     "data": {
      "text/plain": [
       "'atom'"
      ]
     },
     "execution_count": 23,
     "metadata": {},
     "output_type": "execute_result"
    }
   ],
   "source": [
    "prog['js']"
   ]
  },
  {
   "cell_type": "code",
   "execution_count": 24,
   "id": "handy-muslim",
   "metadata": {},
   "outputs": [
    {
     "data": {
      "text/plain": [
       "['pycharm', 'sublime']"
      ]
     },
     "execution_count": 24,
     "metadata": {},
     "output_type": "execute_result"
    }
   ],
   "source": [
    "prog['python']"
   ]
  },
  {
   "cell_type": "code",
   "execution_count": 25,
   "id": "romance-arabic",
   "metadata": {},
   "outputs": [
    {
     "data": {
      "text/plain": [
       "{'jse': 'netbeans', 'jee': 'eclipse'}"
      ]
     },
     "execution_count": 25,
     "metadata": {},
     "output_type": "execute_result"
    }
   ],
   "source": [
    "prog['java']"
   ]
  },
  {
   "cell_type": "code",
   "execution_count": 26,
   "id": "valid-aluminum",
   "metadata": {},
   "outputs": [
    {
     "data": {
      "text/plain": [
       "'sublime'"
      ]
     },
     "execution_count": 26,
     "metadata": {},
     "output_type": "execute_result"
    }
   ],
   "source": [
    "prog['python'][1]"
   ]
  },
  {
   "cell_type": "code",
   "execution_count": 27,
   "id": "suspected-syracuse",
   "metadata": {},
   "outputs": [
    {
     "data": {
      "text/plain": [
       "'netbeans'"
      ]
     },
     "execution_count": 27,
     "metadata": {},
     "output_type": "execute_result"
    }
   ],
   "source": [
    "prog['java']['jse']"
   ]
  },
  {
   "cell_type": "code",
   "execution_count": null,
   "id": "emotional-plant",
   "metadata": {},
   "outputs": [],
   "source": []
  }
 ],
 "metadata": {
  "kernelspec": {
   "display_name": "Python 3",
   "language": "python",
   "name": "python3"
  },
  "language_info": {
   "codemirror_mode": {
    "name": "ipython",
    "version": 3
   },
   "file_extension": ".py",
   "mimetype": "text/x-python",
   "name": "python",
   "nbconvert_exporter": "python",
   "pygments_lexer": "ipython3",
   "version": "3.8.5"
  }
 },
 "nbformat": 4,
 "nbformat_minor": 5
}
