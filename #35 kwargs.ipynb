{
 "cells": [
  {
   "cell_type": "markdown",
   "id": "impressed-monitoring",
   "metadata": {},
   "source": [
    "Keyworded Variable Length Arguments in Python\n",
    "\n",
    "**kwargs"
   ]
  },
  {
   "cell_type": "code",
   "execution_count": 2,
   "id": "handmade-longer",
   "metadata": {},
   "outputs": [
    {
     "name": "stdout",
     "output_type": "stream",
     "text": [
      "Prashant\n",
      "{'Age': 21, 'City': 'Pune', 'Mob': 9876543210}\n"
     ]
    }
   ],
   "source": [
    "def person(name, **data):\n",
    "    \n",
    "    print(name)\n",
    "    print(data)\n",
    "    \n",
    "person('Prashant', Age = 21, City = 'Pune', Mob = 9876543210)\n"
   ]
  },
  {
   "cell_type": "code",
   "execution_count": 6,
   "id": "literary-motel",
   "metadata": {},
   "outputs": [
    {
     "name": "stdout",
     "output_type": "stream",
     "text": [
      "Prashant\n",
      "Age 21\n",
      "City Pune\n",
      "Mob 9876543210\n"
     ]
    }
   ],
   "source": [
    "def person(name, **data):\n",
    "    \n",
    "    print(name)\n",
    "    for i, j in data.items():\n",
    "        print(i, j)\n",
    "    \n",
    "person('Prashant', Age = 21, City = 'Pune', Mob = 9876543210)\n"
   ]
  },
  {
   "cell_type": "code",
   "execution_count": null,
   "id": "narrative-issue",
   "metadata": {},
   "outputs": [],
   "source": []
  }
 ],
 "metadata": {
  "kernelspec": {
   "display_name": "Python 3",
   "language": "python",
   "name": "python3"
  },
  "language_info": {
   "codemirror_mode": {
    "name": "ipython",
    "version": 3
   },
   "file_extension": ".py",
   "mimetype": "text/x-python",
   "name": "python",
   "nbconvert_exporter": "python",
   "pygments_lexer": "ipython3",
   "version": "3.8.5"
  }
 },
 "nbformat": 4,
 "nbformat_minor": 5
}
