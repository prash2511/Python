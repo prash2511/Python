{
 "cells": [
  {
   "cell_type": "markdown",
   "id": "lonely-canadian",
   "metadata": {},
   "source": [
    "If Elif Else Statements"
   ]
  },
  {
   "cell_type": "code",
   "execution_count": 1,
   "id": "single-district",
   "metadata": {},
   "outputs": [
    {
     "name": "stdout",
     "output_type": "stream",
     "text": [
      "i'm right\n"
     ]
    }
   ],
   "source": [
    "if True:\n",
    "    print('i\\'m right')"
   ]
  },
  {
   "cell_type": "code",
   "execution_count": 2,
   "id": "foreign-basketball",
   "metadata": {},
   "outputs": [],
   "source": [
    "if False:\n",
    "    print('i\\'m right')"
   ]
  },
  {
   "cell_type": "code",
   "execution_count": 5,
   "id": "jewish-scene",
   "metadata": {},
   "outputs": [
    {
     "name": "stdout",
     "output_type": "stream",
     "text": [
      "Odd\n"
     ]
    }
   ],
   "source": [
    "x = 7\n",
    "r = x % 2\n",
    "\n",
    "if r==0:\n",
    "    print('Even')\n",
    "if r==1:\n",
    "    print('Odd')"
   ]
  },
  {
   "cell_type": "code",
   "execution_count": 6,
   "id": "paperback-wholesale",
   "metadata": {},
   "outputs": [
    {
     "name": "stdout",
     "output_type": "stream",
     "text": [
      "Even\n"
     ]
    }
   ],
   "source": [
    "x = 4\n",
    "r = x % 2\n",
    "\n",
    "if r==0:\n",
    "    print('Even')\n",
    "else:\n",
    "    print('Odd')"
   ]
  },
  {
   "cell_type": "code",
   "execution_count": 10,
   "id": "embedded-handling",
   "metadata": {},
   "outputs": [
    {
     "name": "stdout",
     "output_type": "stream",
     "text": [
      "Enter Number: 2\n",
      "Two\n"
     ]
    }
   ],
   "source": [
    "x = int(input('Enter Number: '))\n",
    "\n",
    "if x == 1:\n",
    "    print('One')\n",
    "    \n",
    "elif x == 2:\n",
    "    print('Two')\n",
    "    \n",
    "elif x == 3:\n",
    "    print('Three')\n",
    "    \n",
    "elif x == 4:\n",
    "    print('Four')\n",
    "    \n",
    "else:\n",
    "    print('Wrong Input')"
   ]
  },
  {
   "cell_type": "code",
   "execution_count": null,
   "id": "novel-symbol",
   "metadata": {},
   "outputs": [],
   "source": []
  },
  {
   "cell_type": "code",
   "execution_count": null,
   "id": "alike-speed",
   "metadata": {},
   "outputs": [],
   "source": []
  }
 ],
 "metadata": {
  "kernelspec": {
   "display_name": "Python 3",
   "language": "python",
   "name": "python3"
  },
  "language_info": {
   "codemirror_mode": {
    "name": "ipython",
    "version": 3
   },
   "file_extension": ".py",
   "mimetype": "text/x-python",
   "name": "python",
   "nbconvert_exporter": "python",
   "pygments_lexer": "ipython3",
   "version": "3.8.5"
  }
 },
 "nbformat": 4,
 "nbformat_minor": 5
}
