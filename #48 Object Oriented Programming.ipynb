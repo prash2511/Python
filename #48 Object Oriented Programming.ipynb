{
 "cells": [
  {
   "cell_type": "markdown",
   "id": "wired-johns",
   "metadata": {},
   "source": [
    "Object Oriented Programming"
   ]
  },
  {
   "cell_type": "markdown",
   "id": "reliable-samuel",
   "metadata": {},
   "source": [
    "Objects"
   ]
  },
  {
   "cell_type": "markdown",
   "id": "beginning-anatomy",
   "metadata": {},
   "source": [
    "Class"
   ]
  },
  {
   "cell_type": "markdown",
   "id": "hybrid-establishment",
   "metadata": {},
   "source": [
    "Attributes"
   ]
  },
  {
   "cell_type": "markdown",
   "id": "anticipated-advantage",
   "metadata": {},
   "source": [
    "Behaviour"
   ]
  },
  {
   "cell_type": "code",
   "execution_count": null,
   "id": "burning-family",
   "metadata": {},
   "outputs": [],
   "source": []
  }
 ],
 "metadata": {
  "kernelspec": {
   "display_name": "Python 3",
   "language": "python",
   "name": "python3"
  },
  "language_info": {
   "codemirror_mode": {
    "name": "ipython",
    "version": 3
   },
   "file_extension": ".py",
   "mimetype": "text/x-python",
   "name": "python",
   "nbconvert_exporter": "python",
   "pygments_lexer": "ipython3",
   "version": "3.8.5"
  }
 },
 "nbformat": 4,
 "nbformat_minor": 5
}
