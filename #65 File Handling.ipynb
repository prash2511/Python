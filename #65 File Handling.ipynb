{
 "cells": [
  {
   "cell_type": "markdown",
   "id": "difficult-large",
   "metadata": {},
   "source": [
    "File Handling in Python"
   ]
  },
  {
   "cell_type": "code",
   "execution_count": 31,
   "id": "closed-wonder",
   "metadata": {},
   "outputs": [
    {
     "name": "stdout",
     "output_type": "stream",
     "text": [
      "<_io.TextIOWrapper name='#05 Lists.ipynb' mode='r' encoding='cp1252'>\n"
     ]
    }
   ],
   "source": [
    "f = open('#05 Lists.ipynb','r')\n",
    "print(f)"
   ]
  },
  {
   "cell_type": "code",
   "execution_count": 32,
   "id": "subtle-prefix",
   "metadata": {},
   "outputs": [
    {
     "name": "stdout",
     "output_type": "stream",
     "text": [
      "<_io.TextIOWrapper name='MyData.txt' mode='r' encoding='cp1252'>\n"
     ]
    }
   ],
   "source": [
    "f = open('MyData.txt','r')\n",
    "print(f)"
   ]
  },
  {
   "cell_type": "code",
   "execution_count": 10,
   "id": "qualified-horizontal",
   "metadata": {},
   "outputs": [
    {
     "name": "stdout",
     "output_type": "stream",
     "text": [
      "My name is Prashant\n",
      "I'm currently pursuing B.Tech\n",
      "I'm pretty much interested in programming...\n"
     ]
    }
   ],
   "source": [
    "f = open('MyData.txt','r')\n",
    "print(f.read())"
   ]
  },
  {
   "cell_type": "code",
   "execution_count": 11,
   "id": "banned-pierre",
   "metadata": {},
   "outputs": [
    {
     "name": "stdout",
     "output_type": "stream",
     "text": [
      "My name is Prashant\n",
      "\n",
      "I'm currently pursuing B.Tech\n",
      "\n"
     ]
    }
   ],
   "source": [
    "f = open('MyData.txt','r')\n",
    "print(f.readline())\n",
    "print(f.readline())"
   ]
  },
  {
   "cell_type": "code",
   "execution_count": 25,
   "id": "figured-harassment",
   "metadata": {},
   "outputs": [
    {
     "name": "stdout",
     "output_type": "stream",
     "text": [
      "My name is Prashant\n",
      "I'm currently pursuing B.Tech\n",
      "\n"
     ]
    }
   ],
   "source": [
    "f = open('MyData.txt','r')\n",
    "print(f.readline(), end = '')\n",
    "print(f.readline())"
   ]
  },
  {
   "cell_type": "code",
   "execution_count": 36,
   "id": "covered-legislation",
   "metadata": {},
   "outputs": [],
   "source": [
    "f = open('MyData.txt','r')\n",
    "\n",
    "f1 = open('abc', 'w')               #'w' for write\n",
    "f1.write('something')"
   ]
  },
  {
   "cell_type": "code",
   "execution_count": 40,
   "id": "rotary-williams",
   "metadata": {},
   "outputs": [],
   "source": [
    "f = open('MyData.txt','r')\n",
    "\n",
    "f1 = open('abc', 'a')               #'a' for append\n",
    "f1.write('something')"
   ]
  },
  {
   "cell_type": "code",
   "execution_count": 44,
   "id": "collected-virtue",
   "metadata": {},
   "outputs": [
    {
     "name": "stdout",
     "output_type": "stream",
     "text": [
      "<built-in method read of _io.TextIOWrapper object at 0x000002287E063520>\n"
     ]
    }
   ],
   "source": [
    "f = open('MyData.txt','r')\n",
    "\n",
    "f1 = open('abc', 'w')\n",
    "\n",
    "for i in f:\n",
    "    f1.write(i)                     #reading data from f and writing in f1.\n",
    "    \n",
    "print(f1.read())"
   ]
  },
  {
   "cell_type": "code",
   "execution_count": null,
   "id": "serious-friendship",
   "metadata": {},
   "outputs": [],
   "source": []
  }
 ],
 "metadata": {
  "kernelspec": {
   "display_name": "Python 3",
   "language": "python",
   "name": "python3"
  },
  "language_info": {
   "codemirror_mode": {
    "name": "ipython",
    "version": 3
   },
   "file_extension": ".py",
   "mimetype": "text/x-python",
   "name": "python",
   "nbconvert_exporter": "python",
   "pygments_lexer": "ipython3",
   "version": "3.8.5"
  }
 },
 "nbformat": 4,
 "nbformat_minor": 5
}
