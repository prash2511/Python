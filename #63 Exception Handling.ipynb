{
 "cells": [
  {
   "cell_type": "markdown",
   "id": "small-memphis",
   "metadata": {},
   "source": [
    "Exception Handling in Python"
   ]
  },
  {
   "cell_type": "markdown",
   "id": "flexible-robert",
   "metadata": {},
   "source": [
    "Errors-\n",
    "\n",
    "1) Compile Time Errors - Syntax Error: eg. missing (:), wrong spelling\n",
    "    \n",
    "2) Logical Errors - wrong output\n",
    "\n",
    "3) Run time Error - eg. divide by zero"
   ]
  },
  {
   "cell_type": "code",
   "execution_count": 7,
   "id": "handled-water",
   "metadata": {},
   "outputs": [
    {
     "name": "stdout",
     "output_type": "stream",
     "text": [
      "2.5\n",
      "Bye\n"
     ]
    }
   ],
   "source": [
    "a = 10\n",
    "b = 4\n",
    "\n",
    "print(a/b)\n",
    "\n",
    "print('Bye')"
   ]
  },
  {
   "cell_type": "code",
   "execution_count": 6,
   "id": "fantastic-dubai",
   "metadata": {},
   "outputs": [
    {
     "ename": "ZeroDivisionError",
     "evalue": "division by zero",
     "output_type": "error",
     "traceback": [
      "\u001b[1;31m---------------------------------------------------------------------------\u001b[0m",
      "\u001b[1;31mZeroDivisionError\u001b[0m                         Traceback (most recent call last)",
      "\u001b[1;32m<ipython-input-6-79b7db7ba0c2>\u001b[0m in \u001b[0;36m<module>\u001b[1;34m\u001b[0m\n\u001b[0;32m      2\u001b[0m \u001b[0mb\u001b[0m \u001b[1;33m=\u001b[0m \u001b[1;36m0\u001b[0m\u001b[1;33m\u001b[0m\u001b[1;33m\u001b[0m\u001b[0m\n\u001b[0;32m      3\u001b[0m \u001b[1;33m\u001b[0m\u001b[0m\n\u001b[1;32m----> 4\u001b[1;33m \u001b[0mprint\u001b[0m\u001b[1;33m(\u001b[0m\u001b[0ma\u001b[0m\u001b[1;33m/\u001b[0m\u001b[0mb\u001b[0m\u001b[1;33m)\u001b[0m\u001b[1;33m\u001b[0m\u001b[1;33m\u001b[0m\u001b[0m\n\u001b[0m\u001b[0;32m      5\u001b[0m \u001b[1;33m\u001b[0m\u001b[0m\n\u001b[0;32m      6\u001b[0m \u001b[0mprint\u001b[0m\u001b[1;33m(\u001b[0m\u001b[1;34m'Bye'\u001b[0m\u001b[1;33m)\u001b[0m\u001b[1;33m\u001b[0m\u001b[1;33m\u001b[0m\u001b[0m\n",
      "\u001b[1;31mZeroDivisionError\u001b[0m: division by zero"
     ]
    }
   ],
   "source": [
    "a = 10\n",
    "b = 0\n",
    "\n",
    "print(a/b)\n",
    "\n",
    "print('Bye')"
   ]
  },
  {
   "cell_type": "code",
   "execution_count": 8,
   "id": "amended-directory",
   "metadata": {},
   "outputs": [
    {
     "name": "stdout",
     "output_type": "stream",
     "text": [
      "2.5\n",
      "Bye\n"
     ]
    }
   ],
   "source": [
    "a = 10\n",
    "b = 4\n",
    "\n",
    "try:\n",
    "    print(a/b)\n",
    "    \n",
    "except:\n",
    "    print('Invalid Input')\n",
    "    \n",
    "print('Bye')"
   ]
  },
  {
   "cell_type": "code",
   "execution_count": 9,
   "id": "exterior-utility",
   "metadata": {},
   "outputs": [
    {
     "name": "stdout",
     "output_type": "stream",
     "text": [
      "Invalid Input\n",
      "Bye\n"
     ]
    }
   ],
   "source": [
    "a = 10\n",
    "b = 0\n",
    "\n",
    "try:\n",
    "    print(a/b)\n",
    "    \n",
    "except:\n",
    "    print('Invalid Input')\n",
    "    \n",
    "print('Bye')"
   ]
  },
  {
   "cell_type": "code",
   "execution_count": 13,
   "id": "exempt-introduction",
   "metadata": {},
   "outputs": [
    {
     "name": "stdout",
     "output_type": "stream",
     "text": [
      "Invalid Input -  division by zero\n",
      "Bye\n"
     ]
    }
   ],
   "source": [
    "a = 10\n",
    "b = 0\n",
    "\n",
    "try:\n",
    "    print(a/b)\n",
    "    \n",
    "except Exception as e:\n",
    "    print('Invalid Input - ', e)\n",
    "    \n",
    "print('Bye')"
   ]
  },
  {
   "cell_type": "code",
   "execution_count": 14,
   "id": "partial-infection",
   "metadata": {},
   "outputs": [
    {
     "name": "stdout",
     "output_type": "stream",
     "text": [
      "Resource Opened\n",
      "5.0\n",
      "Resource Closed\n"
     ]
    }
   ],
   "source": [
    "a = 10\n",
    "b = 2\n",
    "\n",
    "try:\n",
    "    print('Resource Opened')\n",
    "    print(a/b)\n",
    "    print('Resource Closed')\n",
    "    \n",
    "except Exception as e:\n",
    "    print('Invalid Input - ', e)\n",
    "    "
   ]
  },
  {
   "cell_type": "code",
   "execution_count": 15,
   "id": "biblical-beatles",
   "metadata": {},
   "outputs": [
    {
     "name": "stdout",
     "output_type": "stream",
     "text": [
      "Resource Opened\n",
      "Invalid Input -  division by zero\n"
     ]
    }
   ],
   "source": [
    "a = 10\n",
    "b = 0\n",
    "\n",
    "try:\n",
    "    print('Resource Opened')\n",
    "    print(a/b)\n",
    "    print('Resource Closed')\n",
    "    \n",
    "except Exception as e:\n",
    "    print('Invalid Input - ', e)\n",
    "    "
   ]
  },
  {
   "cell_type": "code",
   "execution_count": 17,
   "id": "coastal-shakespeare",
   "metadata": {},
   "outputs": [
    {
     "name": "stdout",
     "output_type": "stream",
     "text": [
      "Resource Opened\n",
      "Invalid Input -  division by zero\n",
      "Resource Closed\n"
     ]
    }
   ],
   "source": [
    "a = 10\n",
    "b = 0\n",
    "\n",
    "try:\n",
    "    print('Resource Opened')\n",
    "    print(a/b)\n",
    "    print('Resource Closed')\n",
    "    \n",
    "except Exception as e:\n",
    "    print('Invalid Input - ', e)\n",
    "    print('Resource Closed')\n"
   ]
  },
  {
   "cell_type": "code",
   "execution_count": null,
   "id": "attempted-rolling",
   "metadata": {},
   "outputs": [],
   "source": [
    "a = 10\n",
    "b = 0\n",
    "\n",
    "try:\n",
    "    print('Resource Opened')\n",
    "    print(a/b)\n",
    "    \n",
    "except Exception as e:\n",
    "    print('Invalid Input - ', e)\n",
    "\n",
    "finally:                             #'finally' block will be executed if we get error as well as if we don't get the error.\n",
    "    print('Resource Closed')"
   ]
  },
  {
   "cell_type": "code",
   "execution_count": null,
   "id": "transsexual-threshold",
   "metadata": {},
   "outputs": [],
   "source": [
    "a = 10\n",
    "b = 0\n",
    "\n",
    "try:\n",
    "    print(a/b)\n",
    "    \n",
    "    print(int(input('Enter a number: ')))\n",
    "    \n",
    "except ZeroDivisionError as e:\n",
    "    print('Can not divide number by zero - ', e)\n",
    "\n",
    "except ValueError as e:\n",
    "    print('Invalid Input')"
   ]
  },
  {
   "cell_type": "code",
   "execution_count": null,
   "id": "involved-flesh",
   "metadata": {},
   "outputs": [],
   "source": [
    "a = 10\n",
    "b = 2\n",
    "\n",
    "try:\n",
    "    print(a/b)\n",
    "    \n",
    "    print(int(input('Enter a number: ')))\n",
    "    \n",
    "except ZeroDivisionError as e:\n",
    "    print('Can not divide number by zero - ', e)\n",
    "\n",
    "except ValueError as e:\n",
    "    print('Invalid Input')"
   ]
  },
  {
   "cell_type": "code",
   "execution_count": null,
   "id": "limiting-endorsement",
   "metadata": {},
   "outputs": [],
   "source": [
    "a = 10\n",
    "b = 2\n",
    "\n",
    "try:\n",
    "    print(a/b)\n",
    "    \n",
    "    print(int(input('Enter a number: ')))\n",
    "    \n",
    "except ZeroDivisionError as e:\n",
    "    print('Can not divide number by zero - ', e)\n",
    "\n",
    "except ValueError as e:\n",
    "    print('Invalid Input')"
   ]
  },
  {
   "cell_type": "code",
   "execution_count": null,
   "id": "supreme-wound",
   "metadata": {},
   "outputs": [],
   "source": [
    "a = 10\n",
    "b = 2\n",
    "\n",
    "try:\n",
    "    print(a/b)\n",
    "    p = int(input('Enter a number: '))\n",
    "    print(p)\n",
    "    \n",
    "except ZeroDivisionError as e:\n",
    "    print('Can not divide number by zero - ', e)\n",
    "\n",
    "except ValueError as e:\n",
    "    print('Invalid Input')\n",
    "    \n",
    "except Exception as e:\n",
    "    print('something went wrong',e)"
   ]
  },
  {
   "cell_type": "code",
   "execution_count": null,
   "id": "reserved-international",
   "metadata": {},
   "outputs": [],
   "source": []
  }
 ],
 "metadata": {
  "kernelspec": {
   "display_name": "Python 3",
   "language": "python",
   "name": "python3"
  },
  "language_info": {
   "codemirror_mode": {
    "name": "ipython",
    "version": 3
   },
   "file_extension": ".py",
   "mimetype": "text/x-python",
   "name": "python",
   "nbconvert_exporter": "python",
   "pygments_lexer": "ipython3",
   "version": "3.8.5"
  }
 },
 "nbformat": 4,
 "nbformat_minor": 5
}
