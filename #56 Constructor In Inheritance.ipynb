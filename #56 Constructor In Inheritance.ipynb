{
 "cells": [
  {
   "cell_type": "markdown",
   "id": "governmental-cooperative",
   "metadata": {},
   "source": [
    "-Constructor in inheritance\n",
    "\n",
    "-super() in inheritance\n",
    "\n",
    "-Method Resolution Order"
   ]
  },
  {
   "cell_type": "code",
   "execution_count": 10,
   "id": "altered-momentum",
   "metadata": {},
   "outputs": [
    {
     "name": "stdout",
     "output_type": "stream",
     "text": [
      "In A Init\n"
     ]
    }
   ],
   "source": [
    "class A:\n",
    "    \n",
    "    def __init__(self):\n",
    "        print('In A Init')\n",
    "    \n",
    "    def feature1(self):\n",
    "        print('Feature 1 working')\n",
    "        \n",
    "    def feature2(self):\n",
    "        print('Feature 2 working')\n",
    "        \n",
    "\n",
    "class B(A):\n",
    "    \n",
    "    def feature3(self):\n",
    "        print('Feature 3 working')\n",
    "        \n",
    "    def feature4(self):\n",
    "        print('Feature 4 working')\n",
    "        \n",
    "        \n",
    "        \n",
    "a1 = A()\n"
   ]
  },
  {
   "cell_type": "code",
   "execution_count": 11,
   "id": "empirical-kansas",
   "metadata": {},
   "outputs": [
    {
     "name": "stdout",
     "output_type": "stream",
     "text": [
      "In B Init\n"
     ]
    }
   ],
   "source": [
    "class A:\n",
    "    \n",
    "    def __init__(self):\n",
    "        print('In A Init')\n",
    "    \n",
    "    def feature1(self):\n",
    "        print('Feature 1 working')\n",
    "        \n",
    "    def feature2(self):\n",
    "        print('Feature 2 working')\n",
    "        \n",
    "\n",
    "class B(A):\n",
    "    \n",
    "    def __init__(self):\n",
    "        print('In B Init')\n",
    "    \n",
    "    def feature3(self):\n",
    "        print('Feature 3 working')\n",
    "        \n",
    "    def feature4(self):\n",
    "        print('Feature 4 working')\n",
    "        \n",
    "        \n",
    "        \n",
    "a1 = B()\n"
   ]
  },
  {
   "cell_type": "code",
   "execution_count": 23,
   "id": "amended-field",
   "metadata": {},
   "outputs": [
    {
     "name": "stdout",
     "output_type": "stream",
     "text": [
      "In A Init\n",
      "In B Init\n"
     ]
    }
   ],
   "source": [
    "class A:\n",
    "    \n",
    "    def __init__(self):\n",
    "        print('In A Init')\n",
    "    \n",
    "    def feature1(self):\n",
    "        print('Feature 1 working')\n",
    "        \n",
    "    def feature2(self):\n",
    "        print('Feature 2 working')\n",
    "        \n",
    "\n",
    "class B(A):\n",
    "    \n",
    "    def __init__(self):\n",
    "        super().__init__()                    #super() - To access from other class\n",
    "        print('In B Init')\n",
    "    \n",
    "    def feature3(self):\n",
    "        print('Feature 3 working')\n",
    "        \n",
    "    def feature4(self):\n",
    "        print('Feature 4 working')\n",
    "        \n",
    "        \n",
    "        \n",
    "a1 = B()\n"
   ]
  },
  {
   "cell_type": "code",
   "execution_count": 17,
   "id": "sustained-warehouse",
   "metadata": {},
   "outputs": [
    {
     "name": "stdout",
     "output_type": "stream",
     "text": [
      "In A Init\n",
      "In C Init\n"
     ]
    }
   ],
   "source": [
    "class A:\n",
    "    \n",
    "    def __init__(self):\n",
    "        print('In A Init')\n",
    "    \n",
    "    def feature1(self):\n",
    "        print('Feature 1 working')\n",
    "        \n",
    "    def feature2(self):\n",
    "        print('Feature 2 working')\n",
    "        \n",
    "\n",
    "class B:\n",
    "    \n",
    "    def __init__(self):\n",
    "        super().__init__()\n",
    "        print('In B Init')\n",
    "    \n",
    "    def feature3(self):\n",
    "        print('Feature 3 working')\n",
    "        \n",
    "    def feature4(self):\n",
    "        print('Feature 4 working')\n",
    "        \n",
    "\n",
    "class C(A,B):\n",
    "    \n",
    "    def __init__(self):\n",
    "        super().__init__()\n",
    "        print('In C Init')\n",
    "        \n",
    "a1 = C()\n"
   ]
  },
  {
   "cell_type": "markdown",
   "id": "moving-luxembourg",
   "metadata": {},
   "source": [
    "Metod Resolution Order (MRO)-\n"
   ]
  },
  {
   "cell_type": "code",
   "execution_count": 22,
   "id": "ruled-toronto",
   "metadata": {},
   "outputs": [
    {
     "name": "stdout",
     "output_type": "stream",
     "text": [
      "In A Init\n",
      "In C Init\n",
      "Feature 1-A working\n"
     ]
    }
   ],
   "source": [
    "class A:\n",
    "    \n",
    "    def __init__(self):\n",
    "        print('In A Init')\n",
    "    \n",
    "    def feature1(self):\n",
    "        print('Feature 1-A working')\n",
    "        \n",
    "    def feature2(self):\n",
    "        print('Feature 2 working')\n",
    "        \n",
    "\n",
    "class B:\n",
    "    \n",
    "    def __init__(self):\n",
    "        super().__init__()\n",
    "        print('In B Init')\n",
    "    \n",
    "    def feature1(self):\n",
    "        print('Feature 1-B working')\n",
    "        \n",
    "    def feature4(self):\n",
    "        print('Feature 4 working')\n",
    "        \n",
    "\n",
    "class C(A,B):\n",
    "    \n",
    "    def __init__(self):\n",
    "        super().__init__()                   #This will call class A first. This is called MRO.\n",
    "        print('In C Init')\n",
    "        \n",
    "a1 = C()\n",
    "a1.feature1()                                #This will call class A first. This is called MRO."
   ]
  },
  {
   "cell_type": "code",
   "execution_count": null,
   "id": "european-parks",
   "metadata": {},
   "outputs": [],
   "source": []
  }
 ],
 "metadata": {
  "kernelspec": {
   "display_name": "Python 3",
   "language": "python",
   "name": "python3"
  },
  "language_info": {
   "codemirror_mode": {
    "name": "ipython",
    "version": 3
   },
   "file_extension": ".py",
   "mimetype": "text/x-python",
   "name": "python",
   "nbconvert_exporter": "python",
   "pygments_lexer": "ipython3",
   "version": "3.8.5"
  }
 },
 "nbformat": 4,
 "nbformat_minor": 5
}
