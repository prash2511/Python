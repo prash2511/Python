{
 "cells": [
  {
   "cell_type": "markdown",
   "id": "organizational-rehabilitation",
   "metadata": {},
   "source": [
    "Abstract Class and Abstract Method in Python"
   ]
  },
  {
   "cell_type": "code",
   "execution_count": 3,
   "id": "operational-perth",
   "metadata": {},
   "outputs": [],
   "source": [
    "class computer:\n",
    "    def proceed(self):\n",
    "        pass\n",
    "    \n",
    "    \n",
    "#A method which don't have body is called 'abstrct method'.\n",
    "#And class which has abstract method/s is called 'Abstract Class'."
   ]
  },
  {
   "cell_type": "code",
   "execution_count": 4,
   "id": "stock-sperm",
   "metadata": {},
   "outputs": [],
   "source": [
    "class computer:\n",
    "    def proceed(self):\n",
    "        pass\n",
    "    \n",
    "    \n",
    "com = computer()\n",
    "com.proceed()"
   ]
  },
  {
   "cell_type": "code",
   "execution_count": 11,
   "id": "manual-florida",
   "metadata": {},
   "outputs": [
    {
     "ename": "TypeError",
     "evalue": "Can't instantiate abstract class laptop with abstract methods proceed",
     "output_type": "error",
     "traceback": [
      "\u001b[1;31m---------------------------------------------------------------------------\u001b[0m",
      "\u001b[1;31mTypeError\u001b[0m                                 Traceback (most recent call last)",
      "\u001b[1;32m<ipython-input-11-860ac82a555d>\u001b[0m in \u001b[0;36m<module>\u001b[1;34m\u001b[0m\n\u001b[0;32m     10\u001b[0m \u001b[1;33m\u001b[0m\u001b[0m\n\u001b[0;32m     11\u001b[0m \u001b[1;31m#com = computer()\u001b[0m\u001b[1;33m\u001b[0m\u001b[1;33m\u001b[0m\u001b[1;33m\u001b[0m\u001b[0m\n\u001b[1;32m---> 12\u001b[1;33m \u001b[0mcom1\u001b[0m \u001b[1;33m=\u001b[0m \u001b[0mlaptop\u001b[0m\u001b[1;33m(\u001b[0m\u001b[1;33m)\u001b[0m\u001b[1;33m\u001b[0m\u001b[1;33m\u001b[0m\u001b[0m\n\u001b[0m\u001b[0;32m     13\u001b[0m \u001b[1;31m#com.proceed()\u001b[0m\u001b[1;33m\u001b[0m\u001b[1;33m\u001b[0m\u001b[1;33m\u001b[0m\u001b[0m\n",
      "\u001b[1;31mTypeError\u001b[0m: Can't instantiate abstract class laptop with abstract methods proceed"
     ]
    }
   ],
   "source": [
    "from abc import ABC, abstractmethod\n",
    "\n",
    "class computer(ABC):\n",
    "    @abstractmethod\n",
    "    def proceed(self):\n",
    "        pass\n",
    "    \n",
    "class laptop(computer):\n",
    "    pass\n",
    "    \n",
    "#com = computer()\n",
    "com1 = laptop()\n",
    "#com.proceed()"
   ]
  },
  {
   "cell_type": "code",
   "execution_count": 13,
   "id": "pointed-track",
   "metadata": {},
   "outputs": [
    {
     "name": "stdout",
     "output_type": "stream",
     "text": [
      "It's Running\n"
     ]
    }
   ],
   "source": [
    "from abc import ABC, abstractmethod\n",
    "\n",
    "class computer(ABC):\n",
    "    @abstractmethod\n",
    "    def proceed(self):\n",
    "        pass\n",
    "    \n",
    "class laptop(computer):\n",
    "    def proceed(self):\n",
    "        print('It\\'s Running')\n",
    "    \n",
    "#com = computer()\n",
    "com1 = laptop()\n",
    "#com.proceed()\n",
    "com1.proceed()"
   ]
  },
  {
   "cell_type": "code",
   "execution_count": 20,
   "id": "unable-enemy",
   "metadata": {},
   "outputs": [
    {
     "name": "stdout",
     "output_type": "stream",
     "text": [
      "It's Running\n",
      "Solving Bugs\n",
      "writing code\n"
     ]
    }
   ],
   "source": [
    "from abc import ABC, abstractmethod\n",
    "\n",
    "class computer(ABC):\n",
    "    @abstractmethod\n",
    "    def proceed(self):\n",
    "        pass\n",
    "    \n",
    "class laptop(computer):\n",
    "    def proceed(self):\n",
    "        print('It\\'s Running')\n",
    "        \n",
    "class whiteboard:\n",
    "    def write(self):\n",
    "        print('writing code')\n",
    "        \n",
    "class programmer:\n",
    "    def work(self, com):\n",
    "        print('Solving Bugs')\n",
    "        \n",
    "    \n",
    "#com = computer()\n",
    "#com.proceed()\n",
    "\n",
    "com1 = laptop()\n",
    "com1.proceed()\n",
    "\n",
    "prog = programmer()\n",
    "prog.work(com)\n",
    "\n",
    "wrt = whiteboard()\n",
    "wrt.write()"
   ]
  },
  {
   "cell_type": "code",
   "execution_count": 25,
   "id": "tight-reynolds",
   "metadata": {},
   "outputs": [
    {
     "name": "stdout",
     "output_type": "stream",
     "text": [
      "It's Running\n",
      "Solving Bugs\n"
     ]
    },
    {
     "ename": "TypeError",
     "evalue": "Can't instantiate abstract class whiteboard with abstract methods proceed",
     "output_type": "error",
     "traceback": [
      "\u001b[1;31m---------------------------------------------------------------------------\u001b[0m",
      "\u001b[1;31mTypeError\u001b[0m                                 Traceback (most recent call last)",
      "\u001b[1;32m<ipython-input-25-095066e7e21f>\u001b[0m in \u001b[0;36m<module>\u001b[1;34m\u001b[0m\n\u001b[0;32m     28\u001b[0m \u001b[0mprog\u001b[0m\u001b[1;33m.\u001b[0m\u001b[0mwork\u001b[0m\u001b[1;33m(\u001b[0m\u001b[0mcom\u001b[0m\u001b[1;33m)\u001b[0m\u001b[1;33m\u001b[0m\u001b[1;33m\u001b[0m\u001b[0m\n\u001b[0;32m     29\u001b[0m \u001b[1;33m\u001b[0m\u001b[0m\n\u001b[1;32m---> 30\u001b[1;33m \u001b[0mcom2\u001b[0m \u001b[1;33m=\u001b[0m \u001b[0mwhiteboard\u001b[0m\u001b[1;33m(\u001b[0m\u001b[1;33m)\u001b[0m\u001b[1;33m\u001b[0m\u001b[1;33m\u001b[0m\u001b[0m\n\u001b[0m\u001b[0;32m     31\u001b[0m \u001b[0mprog\u001b[0m\u001b[1;33m.\u001b[0m\u001b[0mwork\u001b[0m\u001b[1;33m(\u001b[0m\u001b[0mcom2\u001b[0m\u001b[1;33m)\u001b[0m\u001b[1;33m\u001b[0m\u001b[1;33m\u001b[0m\u001b[0m\n",
      "\u001b[1;31mTypeError\u001b[0m: Can't instantiate abstract class whiteboard with abstract methods proceed"
     ]
    }
   ],
   "source": [
    "from abc import ABC, abstractmethod\n",
    "\n",
    "class computer(ABC):\n",
    "    @abstractmethod\n",
    "    def proceed(self):\n",
    "        pass\n",
    "    \n",
    "class laptop(computer):\n",
    "    def proceed(self):\n",
    "        print('It\\'s Running')\n",
    "        \n",
    "class whiteboard(computer):\n",
    "    def write(self):\n",
    "        print('writing code')\n",
    "        \n",
    "class programmer:\n",
    "    def work(self, com):\n",
    "        print('Solving Bugs')\n",
    "        \n",
    "    \n",
    "#com = computer()\n",
    "#com.proceed()\n",
    "\n",
    "com1 = laptop()\n",
    "com1.proceed()\n",
    "\n",
    "prog = programmer()\n",
    "prog.work(com)\n",
    "\n",
    "com2 = whiteboard()\n",
    "prog.work(com2)"
   ]
  },
  {
   "cell_type": "code",
   "execution_count": null,
   "id": "threatened-vinyl",
   "metadata": {},
   "outputs": [],
   "source": []
  }
 ],
 "metadata": {
  "kernelspec": {
   "display_name": "Python 3",
   "language": "python",
   "name": "python3"
  },
  "language_info": {
   "codemirror_mode": {
    "name": "ipython",
    "version": 3
   },
   "file_extension": ".py",
   "mimetype": "text/x-python",
   "name": "python",
   "nbconvert_exporter": "python",
   "pygments_lexer": "ipython3",
   "version": "3.8.5"
  }
 },
 "nbformat": 4,
 "nbformat_minor": 5
}
