{
 "cells": [
  {
   "cell_type": "markdown",
   "id": "collaborative-candy",
   "metadata": {},
   "source": [
    "Break Continue Pass"
   ]
  },
  {
   "cell_type": "code",
   "execution_count": null,
   "id": "timely-reviewer",
   "metadata": {},
   "outputs": [],
   "source": [
    "x = int(input('How many Candies do you want?'))\n",
    "i = 1\n",
    "\n",
    "while i <= x:\n",
    "    print('Candy')\n",
    "    i = i + 1\n",
    "    "
   ]
  },
  {
   "cell_type": "code",
   "execution_count": null,
   "id": "local-strength",
   "metadata": {},
   "outputs": [],
   "source": [
    "x = int(input('How many Candies do you want?'))\n",
    "\n",
    "for i in range(x):\n",
    "    print('Candy')\n",
    "    "
   ]
  },
  {
   "cell_type": "code",
   "execution_count": null,
   "id": "offensive-cooperative",
   "metadata": {},
   "outputs": [],
   "source": [
    "av = 6\n",
    "x = int(input('How many Candies do you want?'))\n",
    "i = 1\n",
    "\n",
    "while i <= x:\n",
    "    \n",
    "    if i > av:\n",
    "        print('Out of Stock')\n",
    "        break\n",
    "    print('Candy')\n",
    "    i = i + 1\n",
    "    "
   ]
  },
  {
   "cell_type": "code",
   "execution_count": null,
   "id": "constant-grounds",
   "metadata": {},
   "outputs": [],
   "source": [
    "for i in range(1, 101):\n",
    "    if i % 3 == 0 or i % 5 ==0:\n",
    "        continue\n",
    "    print(i)"
   ]
  },
  {
   "cell_type": "code",
   "execution_count": null,
   "id": "olive-financing",
   "metadata": {},
   "outputs": [],
   "source": [
    "for i in range(1, 51):\n",
    "    if i % 2 == 0:\n",
    "        pass\n",
    "    else:\n",
    "        print(i)\n",
    "    \n",
    "#this will print odd numbers"
   ]
  },
  {
   "cell_type": "code",
   "execution_count": null,
   "id": "streaming-irish",
   "metadata": {},
   "outputs": [],
   "source": [
    "for i in range(1, 51):\n",
    "    if i % 2 == 1:\n",
    "        pass\n",
    "    else:\n",
    "        print(i)\n",
    "    \n",
    "#this will print even numbers"
   ]
  },
  {
   "cell_type": "code",
   "execution_count": null,
   "id": "regional-house",
   "metadata": {},
   "outputs": [],
   "source": []
  }
 ],
 "metadata": {
  "kernelspec": {
   "display_name": "Python 3",
   "language": "python",
   "name": "python3"
  },
  "language_info": {
   "codemirror_mode": {
    "name": "ipython",
    "version": 3
   },
   "file_extension": ".py",
   "mimetype": "text/x-python",
   "name": "python",
   "nbconvert_exporter": "python",
   "pygments_lexer": "ipython3",
   "version": "3.8.5"
  }
 },
 "nbformat": 4,
 "nbformat_minor": 5
}
