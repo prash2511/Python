{
 "cells": [
  {
   "cell_type": "markdown",
   "id": "acknowledged-substance",
   "metadata": {},
   "source": [
    "Inner Class"
   ]
  },
  {
   "cell_type": "code",
   "execution_count": 13,
   "id": "proved-fabric",
   "metadata": {},
   "outputs": [
    {
     "name": "stdout",
     "output_type": "stream",
     "text": [
      "Latif 40\n"
     ]
    }
   ],
   "source": [
    "class students:\n",
    "    \n",
    "    def __init__(self, name, rollno):\n",
    "        self.name = name\n",
    "        self.rollno = rollno\n",
    "        \n",
    "s1 = students('Prashant', 60)\n",
    "s2 = students('Latif', 40)\n",
    "\n",
    "print(s2.name, s2.rollno)"
   ]
  },
  {
   "cell_type": "code",
   "execution_count": 12,
   "id": "polish-bulletin",
   "metadata": {},
   "outputs": [
    {
     "name": "stdout",
     "output_type": "stream",
     "text": [
      "Prashant 60\n"
     ]
    }
   ],
   "source": [
    "class students:\n",
    "    \n",
    "    def __init__(self, name, rollno):\n",
    "        self.name = name\n",
    "        self.rollno = rollno\n",
    "        \n",
    "    def show(self):\n",
    "        print(self.name, self.rollno)\n",
    "    \n",
    "s1 = students('Prashant', 60)\n",
    "s2 = students('Latif', 40)\n",
    "\n",
    "s1.show()"
   ]
  },
  {
   "cell_type": "code",
   "execution_count": 39,
   "id": "extraordinary-crazy",
   "metadata": {},
   "outputs": [
    {
     "name": "stdout",
     "output_type": "stream",
     "text": [
      "Prashant 60\n",
      "<__main__.students.laptop object at 0x000001F374BBD9A0>\n"
     ]
    }
   ],
   "source": [
    "class students:\n",
    "    \n",
    "    def __init__(self, name, rollno):\n",
    "        self.name = name\n",
    "        self.rollno = rollno\n",
    "        self.lap = self.laptop()\n",
    "        \n",
    "    def show(self):\n",
    "        print(self.name, self.rollno)\n",
    "        \n",
    "        \n",
    "    class laptop:                               #inner class\n",
    "        \n",
    "        def __init__(self):\n",
    "            self.brand = 'HP'\n",
    "            self.cpu = 'i5'\n",
    "            self.ram = 8\n",
    "    \n",
    "    \n",
    "s1 = students('Prashant', 60)\n",
    "s2 = students('Latif', 40)\n",
    "\n",
    "s1.show()\n",
    "\n",
    "lap1 = s1.lap\n",
    "\n",
    "print(lap1)"
   ]
  },
  {
   "cell_type": "code",
   "execution_count": 42,
   "id": "designed-boulder",
   "metadata": {},
   "outputs": [
    {
     "name": "stdout",
     "output_type": "stream",
     "text": [
      "Prashant 60\n",
      "HP i5 8\n"
     ]
    }
   ],
   "source": [
    "class students:\n",
    "    \n",
    "    def __init__(self, name, rollno):\n",
    "        self.name = name\n",
    "        self.rollno = rollno\n",
    "        self.lap = self.laptop()\n",
    "        \n",
    "    def show(self):\n",
    "        print(self.name, self.rollno)\n",
    "        self.lap.show()\n",
    "\n",
    "        \n",
    "    class laptop:                               #inner class\n",
    "        \n",
    "        def __init__(self):\n",
    "            self.brand = 'HP'\n",
    "            self.cpu = 'i5'\n",
    "            self.ram = 8\n",
    "            \n",
    "        def show(self):\n",
    "            print(self.brand, self.cpu, self.ram)\n",
    "    \n",
    "    \n",
    "s1 = students('Prashant', 60)\n",
    "s2 = students('Latif', 40)\n",
    "\n",
    "s1.show()\n"
   ]
  },
  {
   "cell_type": "code",
   "execution_count": null,
   "id": "structured-convention",
   "metadata": {},
   "outputs": [],
   "source": []
  }
 ],
 "metadata": {
  "kernelspec": {
   "display_name": "Python 3",
   "language": "python",
   "name": "python3"
  },
  "language_info": {
   "codemirror_mode": {
    "name": "ipython",
    "version": 3
   },
   "file_extension": ".py",
   "mimetype": "text/x-python",
   "name": "python",
   "nbconvert_exporter": "python",
   "pygments_lexer": "ipython3",
   "version": "3.8.5"
  }
 },
 "nbformat": 4,
 "nbformat_minor": 5
}
