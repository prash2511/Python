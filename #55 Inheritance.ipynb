{
 "cells": [
  {
   "cell_type": "markdown",
   "id": "primary-arabic",
   "metadata": {},
   "source": [
    "Inheritance"
   ]
  },
  {
   "cell_type": "code",
   "execution_count": 2,
   "id": "variable-damage",
   "metadata": {},
   "outputs": [
    {
     "name": "stdout",
     "output_type": "stream",
     "text": [
      "Feature 1 working\n"
     ]
    }
   ],
   "source": [
    "class A:\n",
    "    \n",
    "    def feature1(self):\n",
    "        print('Feature 1 working')\n",
    "        \n",
    "    def feature2(self):\n",
    "        print('Feature 2 working')\n",
    "        \n",
    "\n",
    "a1 = A()\n",
    "\n",
    "a1.feature1()"
   ]
  },
  {
   "cell_type": "code",
   "execution_count": 3,
   "id": "hairy-laundry",
   "metadata": {},
   "outputs": [
    {
     "name": "stdout",
     "output_type": "stream",
     "text": [
      "Feature 1 working\n",
      "Feature 3 working\n"
     ]
    }
   ],
   "source": [
    "class A:\n",
    "    \n",
    "    def feature1(self):\n",
    "        print('Feature 1 working')\n",
    "        \n",
    "    def feature2(self):\n",
    "        print('Feature 2 working')\n",
    "        \n",
    "\n",
    "class B:\n",
    "    \n",
    "    def feature3(self):\n",
    "        print('Feature 3 working')\n",
    "        \n",
    "    def feature4(self):\n",
    "        print('Feature 4 working')\n",
    "        \n",
    "a1 = A()\n",
    "\n",
    "b1 = B()\n",
    "\n",
    "a1.feature1()\n",
    "\n",
    "b1.feature3()"
   ]
  },
  {
   "cell_type": "code",
   "execution_count": 9,
   "id": "faced-array",
   "metadata": {},
   "outputs": [
    {
     "name": "stdout",
     "output_type": "stream",
     "text": [
      "Feature 1 working\n",
      "Feature 2 working\n"
     ]
    }
   ],
   "source": [
    "#Single level inheritance\n",
    "\n",
    "class A:\n",
    "    \n",
    "    def feature1(self):\n",
    "        print('Feature 1 working')\n",
    "        \n",
    "    def feature2(self):\n",
    "        print('Feature 2 working')\n",
    "        \n",
    "\n",
    "class B(A):                               #inheritance { class A ---> super class / parent class }\n",
    "                                                     # { class B ---> child class / sub class }\n",
    "    def feature3(self):\n",
    "        print('Feature 3 working')\n",
    "        \n",
    "    def feature4(self):\n",
    "        print('Feature 4 working')\n",
    "        \n",
    "a1 = A()\n",
    "\n",
    "b1 = B()\n",
    "\n",
    "a1.feature1()\n",
    "\n",
    "b1.feature2()"
   ]
  },
  {
   "cell_type": "code",
   "execution_count": 15,
   "id": "finite-delaware",
   "metadata": {},
   "outputs": [
    {
     "name": "stdout",
     "output_type": "stream",
     "text": [
      "Feature 1 working\n",
      "Feature 2 working\n",
      "Feature 1 working\n",
      "Feature 3 working\n",
      "Feature 5 working\n"
     ]
    }
   ],
   "source": [
    "#Multi level inheritance\n",
    "\n",
    "\n",
    "class A:                                      #grand parent class\n",
    "    \n",
    "    def feature1(self):\n",
    "        print('Feature 1 working')\n",
    "        \n",
    "    def feature2(self):\n",
    "        print('Feature 2 working')\n",
    "        \n",
    "\n",
    "class B(A):                                  #parent class\n",
    "    \n",
    "    def feature3(self):\n",
    "        print('Feature 3 working')\n",
    "        \n",
    "    def feature4(self):\n",
    "        print('Feature 4 working')\n",
    "        \n",
    "class C(B):                                  #sub class / child class\n",
    "    \n",
    "    def feature5(self):\n",
    "        print('Feature 5 working')\n",
    "        \n",
    "    def feature6(self):\n",
    "        print('Feature 6 working')        \n",
    "\n",
    "        \n",
    "a1 = A()\n",
    "\n",
    "b1 = B()\n",
    "\n",
    "c1 = C()\n",
    "\n",
    "a1.feature1()\n",
    "\n",
    "b1.feature2()\n",
    "\n",
    "c1.feature1()\n",
    "c1.feature3()\n",
    "c1.feature5()"
   ]
  },
  {
   "cell_type": "code",
   "execution_count": 21,
   "id": "accomplished-piano",
   "metadata": {},
   "outputs": [
    {
     "name": "stdout",
     "output_type": "stream",
     "text": [
      "Feature 1 working\n",
      "Feature 4 working\n",
      "Feature 1 working\n",
      "Feature 3 working\n",
      "Feature 5 working\n"
     ]
    }
   ],
   "source": [
    "#Multiple inheritance\n",
    "\n",
    "\n",
    "class A:                                      #parent class\n",
    "    \n",
    "    def feature1(self):\n",
    "        print('Feature 1 working')\n",
    "        \n",
    "    def feature2(self):\n",
    "        print('Feature 2 working')\n",
    "        \n",
    "\n",
    "class B:                                      #parent class\n",
    "    \n",
    "    def feature3(self):\n",
    "        print('Feature 3 working')\n",
    "        \n",
    "    def feature4(self):\n",
    "        print('Feature 4 working')\n",
    "        \n",
    "class C(A,B):                                 #sub class / child class\n",
    "    \n",
    "    def feature5(self):\n",
    "        print('Feature 5 working')\n",
    "        \n",
    "    def feature6(self):\n",
    "        print('Feature 6 working')        \n",
    "\n",
    "        \n",
    "a1 = A()\n",
    "\n",
    "b1 = B()\n",
    "\n",
    "c1 = C()\n",
    "\n",
    "a1.feature1()\n",
    "\n",
    "b1.feature4()\n",
    "\n",
    "c1.feature1()\n",
    "c1.feature3()\n",
    "c1.feature5()"
   ]
  },
  {
   "cell_type": "code",
   "execution_count": null,
   "id": "vertical-silicon",
   "metadata": {},
   "outputs": [],
   "source": []
  }
 ],
 "metadata": {
  "kernelspec": {
   "display_name": "Python 3",
   "language": "python",
   "name": "python3"
  },
  "language_info": {
   "codemirror_mode": {
    "name": "ipython",
    "version": 3
   },
   "file_extension": ".py",
   "mimetype": "text/x-python",
   "name": "python",
   "nbconvert_exporter": "python",
   "pygments_lexer": "ipython3",
   "version": "3.8.5"
  }
 },
 "nbformat": 4,
 "nbformat_minor": 5
}
