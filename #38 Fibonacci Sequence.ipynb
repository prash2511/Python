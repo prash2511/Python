{
 "cells": [
  {
   "cell_type": "markdown",
   "id": "cardiovascular-fancy",
   "metadata": {},
   "source": [
    "Fibonacci Series"
   ]
  },
  {
   "cell_type": "code",
   "execution_count": 8,
   "id": "australian-practitioner",
   "metadata": {},
   "outputs": [
    {
     "name": "stdout",
     "output_type": "stream",
     "text": [
      "Enter a number: 7\n",
      "0\n",
      "1\n",
      "1\n",
      "2\n",
      "3\n",
      "5\n",
      "8\n"
     ]
    }
   ],
   "source": [
    "def fib(n):\n",
    "    \n",
    "    a = 0\n",
    "    b = 1\n",
    "    \n",
    "    print(0)\n",
    "    print(1)\n",
    "    \n",
    "    for i in range(2,n):\n",
    "        c = a + b\n",
    "        a = b\n",
    "        b = c\n",
    "        print(c)   \n",
    "\n",
    "        \n",
    "n = int(input('Enter a number: '))\n",
    "\n",
    "fib(n)\n",
    "\n"
   ]
  },
  {
   "cell_type": "code",
   "execution_count": 10,
   "id": "standard-insertion",
   "metadata": {},
   "outputs": [
    {
     "name": "stdout",
     "output_type": "stream",
     "text": [
      "Enter a number: 50\n",
      "0\n",
      "1\n",
      "1\n",
      "2\n",
      "3\n",
      "5\n",
      "8\n",
      "13\n",
      "21\n",
      "34\n",
      "55\n",
      "89\n",
      "144\n",
      "233\n",
      "377\n",
      "610\n",
      "987\n",
      "1597\n",
      "2584\n",
      "4181\n",
      "6765\n",
      "10946\n",
      "17711\n",
      "28657\n",
      "46368\n",
      "75025\n",
      "121393\n",
      "196418\n",
      "317811\n",
      "514229\n",
      "832040\n",
      "1346269\n",
      "2178309\n",
      "3524578\n",
      "5702887\n",
      "9227465\n",
      "14930352\n",
      "24157817\n",
      "39088169\n",
      "63245986\n",
      "102334155\n",
      "165580141\n",
      "267914296\n",
      "433494437\n",
      "701408733\n",
      "1134903170\n",
      "1836311903\n",
      "2971215073\n",
      "4807526976\n",
      "7778742049\n"
     ]
    }
   ],
   "source": [
    "def fib(n):\n",
    "    \n",
    "    a = 0\n",
    "    b = 1\n",
    "    \n",
    "    print(0)\n",
    "    print(1)\n",
    "    \n",
    "    for i in range(2,n):\n",
    "        c = a + b\n",
    "        a = b\n",
    "        b = c\n",
    "        print(c)   \n",
    "\n",
    "        \n",
    "n = int(input('Enter a number: '))\n",
    "\n",
    "fib(n)\n",
    "\n"
   ]
  },
  {
   "cell_type": "code",
   "execution_count": 15,
   "id": "appreciated-anger",
   "metadata": {},
   "outputs": [
    {
     "name": "stdout",
     "output_type": "stream",
     "text": [
      "Enter a number: 1\n",
      "0\n"
     ]
    }
   ],
   "source": [
    "\n",
    "#for only 1 number:\n",
    "\n",
    "\n",
    "def fib(n):\n",
    "    \n",
    "    a = 0\n",
    "    b = 1\n",
    "    \n",
    "    if n==1:\n",
    "        print(0)\n",
    "    else:\n",
    "        print(0)\n",
    "        print(1)\n",
    "    \n",
    "        for i in range(2,n):\n",
    "            c = a + b\n",
    "            a = b\n",
    "            b = c\n",
    "            print(c)   \n",
    "\n",
    "        \n",
    "n = int(input('Enter a number: '))\n",
    "\n",
    "fib(n)\n",
    "\n"
   ]
  },
  {
   "cell_type": "code",
   "execution_count": 20,
   "id": "attractive-excellence",
   "metadata": {},
   "outputs": [
    {
     "name": "stdout",
     "output_type": "stream",
     "text": [
      "Enter a number: -3\n",
      "Invalid number\n"
     ]
    }
   ],
   "source": [
    "#Assignment\n",
    "#for negative numbers\n",
    "\n",
    "\n",
    "def fib(n):\n",
    "    \n",
    "    a = 0\n",
    "    b = 1\n",
    "    \n",
    "    if n <= 0:\n",
    "        print('Invalid number')\n",
    "    else:\n",
    "        print(0)\n",
    "        print(1)\n",
    "\n",
    "        for i in range(2,n):\n",
    "            c = a + b\n",
    "            a = b\n",
    "            b = c\n",
    "            print(c)   \n",
    "\n",
    "        \n",
    "n = int(input('Enter a number: '))\n",
    "\n",
    "fib(n)\n",
    "\n"
   ]
  },
  {
   "cell_type": "code",
   "execution_count": 21,
   "id": "directed-gentleman",
   "metadata": {},
   "outputs": [
    {
     "name": "stdout",
     "output_type": "stream",
     "text": [
      "Enter a number: 100\n",
      "0\n",
      "1\n",
      "1\n",
      "2\n",
      "3\n",
      "5\n",
      "8\n",
      "13\n",
      "21\n",
      "34\n",
      "55\n",
      "89\n"
     ]
    }
   ],
   "source": [
    "\n",
    "#Assignment\n",
    "#Upto 100(last number should be 100 or less)\n",
    "\n",
    "\n",
    "def fib(n):\n",
    "    \n",
    "    a = 0\n",
    "    b = 1\n",
    "    \n",
    "    print(0)\n",
    "    print(1)\n",
    "    \n",
    "    for i in range(2,n):\n",
    "        c = a + b\n",
    "        a = b\n",
    "        b = c\n",
    "        if n > c:\n",
    "            print(c)\n",
    "        else:\n",
    "            break\n",
    "\n",
    "        \n",
    "n = int(input('Enter a number: '))\n",
    "\n",
    "fib(n)\n",
    "\n"
   ]
  },
  {
   "cell_type": "code",
   "execution_count": null,
   "id": "balanced-trust",
   "metadata": {},
   "outputs": [],
   "source": []
  }
 ],
 "metadata": {
  "kernelspec": {
   "display_name": "Python 3",
   "language": "python",
   "name": "python3"
  },
  "language_info": {
   "codemirror_mode": {
    "name": "ipython",
    "version": 3
   },
   "file_extension": ".py",
   "mimetype": "text/x-python",
   "name": "python",
   "nbconvert_exporter": "python",
   "pygments_lexer": "ipython3",
   "version": "3.8.5"
  }
 },
 "nbformat": 4,
 "nbformat_minor": 5
}
