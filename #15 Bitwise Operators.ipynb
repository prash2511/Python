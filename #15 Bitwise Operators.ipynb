{
 "cells": [
  {
   "cell_type": "markdown",
   "id": "floating-prime",
   "metadata": {},
   "source": [
    "###Bitwise Operators:\n",
    "#Complement(~)\n",
    "#And(&)\n",
    "#Or(|)\n",
    "#XOR(^)\n",
    "#Left Shift(<<)\n",
    "#Right Shift(>>)"
   ]
  },
  {
   "cell_type": "markdown",
   "id": "powerful-memorial",
   "metadata": {},
   "source": [
    "Complement(~) also called tilde operator"
   ]
  },
  {
   "cell_type": "code",
   "execution_count": 1,
   "id": "matched-police",
   "metadata": {},
   "outputs": [
    {
     "data": {
      "text/plain": [
       "-5"
      ]
     },
     "execution_count": 1,
     "metadata": {},
     "output_type": "execute_result"
    }
   ],
   "source": [
    "~4"
   ]
  },
  {
   "cell_type": "code",
   "execution_count": 2,
   "id": "designing-hotel",
   "metadata": {},
   "outputs": [
    {
     "data": {
      "text/plain": [
       "-1"
      ]
     },
     "execution_count": 2,
     "metadata": {},
     "output_type": "execute_result"
    }
   ],
   "source": [
    "~0"
   ]
  },
  {
   "cell_type": "code",
   "execution_count": 3,
   "id": "extra-cholesterol",
   "metadata": {},
   "outputs": [
    {
     "data": {
      "text/plain": [
       "-2"
      ]
     },
     "execution_count": 3,
     "metadata": {},
     "output_type": "execute_result"
    }
   ],
   "source": [
    "~1"
   ]
  },
  {
   "cell_type": "code",
   "execution_count": 4,
   "id": "genetic-guarantee",
   "metadata": {},
   "outputs": [
    {
     "data": {
      "text/plain": [
       "-20"
      ]
     },
     "execution_count": 4,
     "metadata": {},
     "output_type": "execute_result"
    }
   ],
   "source": [
    "~19"
   ]
  },
  {
   "cell_type": "code",
   "execution_count": 5,
   "id": "signed-component",
   "metadata": {},
   "outputs": [
    {
     "data": {
      "text/plain": [
       "9"
      ]
     },
     "execution_count": 5,
     "metadata": {},
     "output_type": "execute_result"
    }
   ],
   "source": [
    "~-10"
   ]
  },
  {
   "cell_type": "markdown",
   "id": "vulnerable-international",
   "metadata": {},
   "source": [
    "And(&) & Or(|)"
   ]
  },
  {
   "cell_type": "code",
   "execution_count": 6,
   "id": "amazing-salvation",
   "metadata": {},
   "outputs": [
    {
     "data": {
      "text/plain": [
       "12"
      ]
     },
     "execution_count": 6,
     "metadata": {},
     "output_type": "execute_result"
    }
   ],
   "source": [
    "12&13"
   ]
  },
  {
   "cell_type": "code",
   "execution_count": 7,
   "id": "younger-national",
   "metadata": {},
   "outputs": [
    {
     "data": {
      "text/plain": [
       "13"
      ]
     },
     "execution_count": 7,
     "metadata": {},
     "output_type": "execute_result"
    }
   ],
   "source": [
    "12 | 13"
   ]
  },
  {
   "cell_type": "code",
   "execution_count": 8,
   "id": "confused-enough",
   "metadata": {},
   "outputs": [
    {
     "data": {
      "text/plain": [
       "24"
      ]
     },
     "execution_count": 8,
     "metadata": {},
     "output_type": "execute_result"
    }
   ],
   "source": [
    "25 & 30"
   ]
  },
  {
   "cell_type": "code",
   "execution_count": 9,
   "id": "quick-sodium",
   "metadata": {},
   "outputs": [
    {
     "data": {
      "text/plain": [
       "31"
      ]
     },
     "execution_count": 9,
     "metadata": {},
     "output_type": "execute_result"
    }
   ],
   "source": [
    "25 | 30"
   ]
  },
  {
   "cell_type": "markdown",
   "id": "stretch-component",
   "metadata": {},
   "source": [
    "XOR(^)"
   ]
  },
  {
   "cell_type": "code",
   "execution_count": 10,
   "id": "aggregate-canyon",
   "metadata": {},
   "outputs": [
    {
     "data": {
      "text/plain": [
       "1"
      ]
     },
     "execution_count": 10,
     "metadata": {},
     "output_type": "execute_result"
    }
   ],
   "source": [
    "12 ^ 13"
   ]
  },
  {
   "cell_type": "code",
   "execution_count": 11,
   "id": "international-corner",
   "metadata": {},
   "outputs": [
    {
     "data": {
      "text/plain": [
       "4"
      ]
     },
     "execution_count": 11,
     "metadata": {},
     "output_type": "execute_result"
    }
   ],
   "source": [
    "16 ^ 20"
   ]
  },
  {
   "cell_type": "markdown",
   "id": "combined-wright",
   "metadata": {},
   "source": [
    "Left Shift(<<)"
   ]
  },
  {
   "cell_type": "code",
   "execution_count": 12,
   "id": "vanilla-repair",
   "metadata": {},
   "outputs": [
    {
     "data": {
      "text/plain": [
       "40"
      ]
     },
     "execution_count": 12,
     "metadata": {},
     "output_type": "execute_result"
    }
   ],
   "source": [
    "10<<2"
   ]
  },
  {
   "cell_type": "code",
   "execution_count": 13,
   "id": "logical-separation",
   "metadata": {},
   "outputs": [
    {
     "data": {
      "text/plain": [
       "160"
      ]
     },
     "execution_count": 13,
     "metadata": {},
     "output_type": "execute_result"
    }
   ],
   "source": [
    "20 << 3"
   ]
  },
  {
   "cell_type": "markdown",
   "id": "adopted-niagara",
   "metadata": {},
   "source": [
    "Right Shift(>>)"
   ]
  },
  {
   "cell_type": "code",
   "execution_count": 14,
   "id": "acceptable-artist",
   "metadata": {},
   "outputs": [
    {
     "data": {
      "text/plain": [
       "2"
      ]
     },
     "execution_count": 14,
     "metadata": {},
     "output_type": "execute_result"
    }
   ],
   "source": [
    "10 >> 2"
   ]
  },
  {
   "cell_type": "code",
   "execution_count": 15,
   "id": "medieval-draft",
   "metadata": {},
   "outputs": [
    {
     "data": {
      "text/plain": [
       "2"
      ]
     },
     "execution_count": 15,
     "metadata": {},
     "output_type": "execute_result"
    }
   ],
   "source": [
    "20 >> 3"
   ]
  },
  {
   "cell_type": "code",
   "execution_count": null,
   "id": "stock-liquid",
   "metadata": {},
   "outputs": [],
   "source": []
  }
 ],
 "metadata": {
  "kernelspec": {
   "display_name": "Python 3",
   "language": "python",
   "name": "python3"
  },
  "language_info": {
   "codemirror_mode": {
    "name": "ipython",
    "version": 3
   },
   "file_extension": ".py",
   "mimetype": "text/x-python",
   "name": "python",
   "nbconvert_exporter": "python",
   "pygments_lexer": "ipython3",
   "version": "3.8.5"
  }
 },
 "nbformat": 4,
 "nbformat_minor": 5
}
