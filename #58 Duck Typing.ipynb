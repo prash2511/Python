{
 "cells": [
  {
   "cell_type": "markdown",
   "id": "collected-porter",
   "metadata": {},
   "source": [
    "Duck Typing in Python"
   ]
  },
  {
   "cell_type": "code",
   "execution_count": 4,
   "id": "loved-documentation",
   "metadata": {},
   "outputs": [
    {
     "name": "stdout",
     "output_type": "stream",
     "text": [
      "Compiling\n",
      "Running\n"
     ]
    }
   ],
   "source": [
    "class Jupyter:\n",
    "    \n",
    "    def execute(self):\n",
    "        print('Compiling')\n",
    "        print('Running')\n",
    "        \n",
    "class Laptop:\n",
    "    \n",
    "    def code(self,ide):\n",
    "        ide.execute()\n",
    "        \n",
    "        \n",
    "ide = Jupyter()\n",
    "\n",
    "lap1 = Laptop()\n",
    "lap1.code(ide)"
   ]
  },
  {
   "cell_type": "code",
   "execution_count": 6,
   "id": "valuable-sixth",
   "metadata": {},
   "outputs": [
    {
     "name": "stdout",
     "output_type": "stream",
     "text": [
      "Spell Check\n",
      "Convention Check\n",
      "Compiling\n",
      "Running\n"
     ]
    }
   ],
   "source": [
    "class Jupyter:\n",
    "    \n",
    "    def execute(self):\n",
    "        print('Compiling')\n",
    "        print('Running')\n",
    "        \n",
    "        \n",
    "class Laptop:\n",
    "    \n",
    "    def code(self,ide):\n",
    "        ide.execute()\n",
    "        \n",
    "        \n",
    "class MyEditor:\n",
    "    \n",
    "    def execute(self):\n",
    "        print('Spell Check')\n",
    "        print('Convention Check')\n",
    "        print('Compiling')\n",
    "        print('Running')\n",
    "        \n",
    "        \n",
    "ide = MyEditor()\n",
    "\n",
    "lap1 = Laptop()\n",
    "lap1.code(ide)"
   ]
  },
  {
   "cell_type": "code",
   "execution_count": null,
   "id": "japanese-madonna",
   "metadata": {},
   "outputs": [],
   "source": []
  }
 ],
 "metadata": {
  "kernelspec": {
   "display_name": "Python 3",
   "language": "python",
   "name": "python3"
  },
  "language_info": {
   "codemirror_mode": {
    "name": "ipython",
    "version": 3
   },
   "file_extension": ".py",
   "mimetype": "text/x-python",
   "name": "python",
   "nbconvert_exporter": "python",
   "pygments_lexer": "ipython3",
   "version": "3.8.5"
  }
 },
 "nbformat": 4,
 "nbformat_minor": 5
}
