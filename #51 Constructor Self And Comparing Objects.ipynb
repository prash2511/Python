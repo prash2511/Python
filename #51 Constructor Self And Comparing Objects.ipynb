{
 "cells": [
  {
   "cell_type": "markdown",
   "id": "bronze-activation",
   "metadata": {},
   "source": [
    "Constructor, Self and Comparing Objects"
   ]
  },
  {
   "cell_type": "code",
   "execution_count": 6,
   "id": "unnecessary-gates",
   "metadata": {},
   "outputs": [
    {
     "name": "stdout",
     "output_type": "stream",
     "text": [
      "1830538148736\n",
      "1830538146672\n"
     ]
    }
   ],
   "source": [
    "class computer:\n",
    "    pass\n",
    "    \n",
    "    \n",
    "    \n",
    "c1 = computer()           #---> computer is Constructor\n",
    "c2 = computer()\n",
    "\n",
    "print(id(c1))\n",
    "print(id(c2))"
   ]
  },
  {
   "cell_type": "code",
   "execution_count": 7,
   "id": "published-backing",
   "metadata": {},
   "outputs": [
    {
     "name": "stdout",
     "output_type": "stream",
     "text": [
      "Prashant\n",
      "Prashant\n"
     ]
    }
   ],
   "source": [
    "class computer:\n",
    "    \n",
    "    def __init__(self):\n",
    "        self.name = 'Prashant'\n",
    "        self.age = 21\n",
    "    \n",
    "    \n",
    "    \n",
    "c1 = computer()\n",
    "c2 = computer()\n",
    "\n",
    "print(c1.name)\n",
    "print(c2.name)"
   ]
  },
  {
   "cell_type": "code",
   "execution_count": 8,
   "id": "outer-leather",
   "metadata": {},
   "outputs": [
    {
     "name": "stdout",
     "output_type": "stream",
     "text": [
      "Prash\n",
      "Prashant\n"
     ]
    }
   ],
   "source": [
    "class computer:\n",
    "    \n",
    "    def __init__(self):\n",
    "        self.name = 'Prashant'\n",
    "        self.age = 21\n",
    "    \n",
    "c1 = computer()\n",
    "c2 = computer()\n",
    "\n",
    "c1.name = 'Prash'\n",
    "\n",
    "print(c1.name)\n",
    "print(c2.name)"
   ]
  },
  {
   "cell_type": "code",
   "execution_count": 10,
   "id": "everyday-lodging",
   "metadata": {},
   "outputs": [
    {
     "name": "stdout",
     "output_type": "stream",
     "text": [
      "Prash 19\n",
      "Prashant 21\n"
     ]
    }
   ],
   "source": [
    "class computer:\n",
    "    \n",
    "    def __init__(self):\n",
    "        self.name = 'Prashant'\n",
    "        self.age = 21\n",
    "    \n",
    "c1 = computer()\n",
    "c2 = computer()\n",
    "\n",
    "c1.name = 'Prash'\n",
    "c1.age = 19\n",
    "\n",
    "print(c1.name, c1.age)\n",
    "print(c2.name, c2.age)"
   ]
  },
  {
   "cell_type": "code",
   "execution_count": 12,
   "id": "environmental-interpretation",
   "metadata": {},
   "outputs": [
    {
     "name": "stdout",
     "output_type": "stream",
     "text": [
      "Prash 25\n",
      "Prashant 21\n"
     ]
    }
   ],
   "source": [
    "class computer:\n",
    "    \n",
    "    def __init__(self):\n",
    "        self.name = 'Prashant'\n",
    "        self.age = 21\n",
    "    \n",
    "    def update(self):\n",
    "        self.age = 25\n",
    "    \n",
    "c1 = computer()\n",
    "c2 = computer()\n",
    "\n",
    "c1.name = 'Prash'\n",
    "c1.age = 19\n",
    "\n",
    "c1.update()\n",
    "\n",
    "print(c1.name, c1.age)\n",
    "print(c2.name, c2.age)"
   ]
  },
  {
   "cell_type": "code",
   "execution_count": 17,
   "id": "veterinary-sector",
   "metadata": {},
   "outputs": [
    {
     "name": "stdout",
     "output_type": "stream",
     "text": [
      "They are same\n",
      "Prashant 25\n",
      "Prashant 21\n"
     ]
    }
   ],
   "source": [
    "class computer:\n",
    "    \n",
    "    def __init__(self):\n",
    "        self.name = 'Prashant'\n",
    "        self.age = 21\n",
    "    \n",
    "    def update(self):\n",
    "        self.age = 25\n",
    "        \n",
    "    def compare(self,other):\n",
    "        if self.age == other.age:\n",
    "            return True\n",
    "        else:\n",
    "            return False\n",
    "        \n",
    "    \n",
    "c1 = computer()\n",
    "c2 = computer()\n",
    "\n",
    "if c1.compare(c2):\n",
    "    print('They are same')\n",
    "\n",
    "c1.update()\n",
    "\n",
    "print(c1.name, c1.age)\n",
    "print(c2.name, c2.age)"
   ]
  },
  {
   "cell_type": "code",
   "execution_count": 20,
   "id": "designing-programming",
   "metadata": {},
   "outputs": [
    {
     "name": "stdout",
     "output_type": "stream",
     "text": [
      "They are different\n",
      "Prashant 25\n",
      "Prashant 21\n"
     ]
    }
   ],
   "source": [
    "class computer:\n",
    "    \n",
    "    def __init__(self):\n",
    "        self.name = 'Prashant'\n",
    "        self.age = 21\n",
    "            \n",
    "    def compare(self,other):\n",
    "        if self.age == other.age:\n",
    "            return True\n",
    "        else:\n",
    "            return False\n",
    "        \n",
    "    \n",
    "c1 = computer()\n",
    "c1.age = 25\n",
    "c2 = computer()\n",
    "\n",
    "if c1.compare(c2):\n",
    "    print('They are same')\n",
    "else:\n",
    "    print('They are different')\n",
    "\n",
    "\n",
    "print(c1.name, c1.age)\n",
    "print(c2.name, c2.age)"
   ]
  },
  {
   "cell_type": "code",
   "execution_count": null,
   "id": "respiratory-surname",
   "metadata": {},
   "outputs": [],
   "source": []
  }
 ],
 "metadata": {
  "kernelspec": {
   "display_name": "Python 3",
   "language": "python",
   "name": "python3"
  },
  "language_info": {
   "codemirror_mode": {
    "name": "ipython",
    "version": 3
   },
   "file_extension": ".py",
   "mimetype": "text/x-python",
   "name": "python",
   "nbconvert_exporter": "python",
   "pygments_lexer": "ipython3",
   "version": "3.8.5"
  }
 },
 "nbformat": 4,
 "nbformat_minor": 5
}
