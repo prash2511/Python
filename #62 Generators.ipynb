{
 "cells": [
  {
   "cell_type": "markdown",
   "id": "intended-experiment",
   "metadata": {},
   "source": [
    "Generators"
   ]
  },
  {
   "cell_type": "code",
   "execution_count": 1,
   "id": "optical-convenience",
   "metadata": {},
   "outputs": [
    {
     "name": "stdout",
     "output_type": "stream",
     "text": [
      "<generator object topten at 0x000002786B4457B0>\n"
     ]
    }
   ],
   "source": [
    "def topten():\n",
    "    \n",
    "    yield 5                  #yield is special keyword which makes functions as 'generators'.\n",
    "    \n",
    "    \n",
    "    \n",
    "    \n",
    "values = topten()\n",
    "print(values)"
   ]
  },
  {
   "cell_type": "code",
   "execution_count": 3,
   "id": "graduate-mileage",
   "metadata": {},
   "outputs": [
    {
     "name": "stdout",
     "output_type": "stream",
     "text": [
      "5\n"
     ]
    }
   ],
   "source": [
    "def topten():\n",
    "    \n",
    "    yield 5\n",
    "    \n",
    "    \n",
    "    \n",
    "values = topten()\n",
    "print(values.__next__())\n"
   ]
  },
  {
   "cell_type": "code",
   "execution_count": 2,
   "id": "intermediate-field",
   "metadata": {},
   "outputs": [
    {
     "name": "stdout",
     "output_type": "stream",
     "text": [
      "1\n"
     ]
    }
   ],
   "source": [
    "def topten():\n",
    "    \n",
    "    yield 1\n",
    "    yield 2\n",
    "    yield 3\n",
    "    yield 4\n",
    "    \n",
    "    \n",
    "    \n",
    "values = topten()\n",
    "print(values.__next__())\n"
   ]
  },
  {
   "cell_type": "code",
   "execution_count": 4,
   "id": "conservative-empty",
   "metadata": {},
   "outputs": [
    {
     "name": "stdout",
     "output_type": "stream",
     "text": [
      "1\n",
      "2\n"
     ]
    }
   ],
   "source": [
    "def topten():\n",
    "    \n",
    "    yield 1\n",
    "    yield 2\n",
    "    yield 3\n",
    "    yield 4\n",
    "    \n",
    "    \n",
    "    \n",
    "values = topten()\n",
    "print(values.__next__())\n",
    "print(values.__next__())\n"
   ]
  },
  {
   "cell_type": "code",
   "execution_count": 5,
   "id": "dutch-guinea",
   "metadata": {},
   "outputs": [
    {
     "name": "stdout",
     "output_type": "stream",
     "text": [
      "1\n",
      "2\n",
      "3\n",
      "4\n"
     ]
    }
   ],
   "source": [
    "def topten():\n",
    "    \n",
    "    yield 1\n",
    "    yield 2\n",
    "    yield 3\n",
    "    yield 4\n",
    "    \n",
    "    \n",
    "    \n",
    "values = topten()\n",
    "print(values.__next__())\n",
    "\n",
    "for i in values:\n",
    "    print(i)\n"
   ]
  },
  {
   "cell_type": "code",
   "execution_count": 6,
   "id": "conventional-lawyer",
   "metadata": {},
   "outputs": [
    {
     "name": "stdout",
     "output_type": "stream",
     "text": [
      "1\n",
      "4\n",
      "9\n",
      "16\n",
      "25\n",
      "36\n",
      "49\n",
      "64\n",
      "81\n",
      "100\n"
     ]
    }
   ],
   "source": [
    "def topten():\n",
    "    \n",
    "    n = 1\n",
    "    \n",
    "    while n <= 10:\n",
    "        sq = n * n\n",
    "        yield sq\n",
    "        n = n + 1\n",
    "    \n",
    "    \n",
    "values = topten()\n",
    "\n",
    "for i in values:\n",
    "    print(i)\n"
   ]
  }
 ],
 "metadata": {
  "kernelspec": {
   "display_name": "Python 3",
   "language": "python",
   "name": "python3"
  },
  "language_info": {
   "codemirror_mode": {
    "name": "ipython",
    "version": 3
   },
   "file_extension": ".py",
   "mimetype": "text/x-python",
   "name": "python",
   "nbconvert_exporter": "python",
   "pygments_lexer": "ipython3",
   "version": "3.8.5"
  }
 },
 "nbformat": 4,
 "nbformat_minor": 5
}
