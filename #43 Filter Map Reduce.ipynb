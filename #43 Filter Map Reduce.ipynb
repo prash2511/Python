{
 "cells": [
  {
   "cell_type": "markdown",
   "id": "grateful-science",
   "metadata": {},
   "source": [
    "Filter(), Map(), Reduce()"
   ]
  },
  {
   "cell_type": "code",
   "execution_count": 3,
   "id": "recent-poetry",
   "metadata": {},
   "outputs": [
    {
     "name": "stdout",
     "output_type": "stream",
     "text": [
      "[2, 4, 6, 8]\n"
     ]
    }
   ],
   "source": [
    "def is_even(n):\n",
    "    return n % 2 == 0\n",
    "\n",
    "nums = [1,2,3,4,5,6,7,8,9]\n",
    "\n",
    "result = list(filter(is_even,nums))\n",
    "\n",
    "print(result)"
   ]
  },
  {
   "cell_type": "code",
   "execution_count": 6,
   "id": "catholic-germany",
   "metadata": {},
   "outputs": [
    {
     "name": "stdout",
     "output_type": "stream",
     "text": [
      "[2, 4, 6, 8]\n"
     ]
    }
   ],
   "source": [
    "nums = [1,2,3,4,5,6,7,8,9]\n",
    "\n",
    "result = list(filter(lambda n : n%2 == 0,nums))      #using lambda\n",
    "\n",
    "print(result)"
   ]
  },
  {
   "cell_type": "code",
   "execution_count": 9,
   "id": "absolute-credits",
   "metadata": {},
   "outputs": [
    {
     "name": "stdout",
     "output_type": "stream",
     "text": [
      "[2, 4, 6, 8]\n",
      "[4, 6, 8, 10]\n"
     ]
    }
   ],
   "source": [
    "nums = [1,2,3,4,5,6,7,8,9]\n",
    "\n",
    "evens = list(filter(lambda n : n%2 == 0,nums))\n",
    "\n",
    "doubles = list(map(lambda n : n + 2, evens))\n",
    "\n",
    "print(result)\n",
    "print(doubles)"
   ]
  },
  {
   "cell_type": "code",
   "execution_count": 10,
   "id": "headed-living",
   "metadata": {},
   "outputs": [
    {
     "name": "stdout",
     "output_type": "stream",
     "text": [
      "[2, 4, 6, 8]\n",
      "[4, 6, 8, 10]\n",
      "28\n"
     ]
    }
   ],
   "source": [
    "from functools import reduce\n",
    "\n",
    "def add_all(a,b):\n",
    "    return a + b\n",
    "\n",
    "nums = [1,2,3,4,5,6,7,8,9]\n",
    "\n",
    "evens = list(filter(lambda n : n%2 == 0,nums))\n",
    "\n",
    "doubles = list(map(lambda n : n + 2, evens))\n",
    "\n",
    "num = reduce(add_all,doubles)\n",
    "\n",
    "print(result)\n",
    "print(doubles)\n",
    "print(num)"
   ]
  },
  {
   "cell_type": "code",
   "execution_count": 13,
   "id": "solved-bearing",
   "metadata": {},
   "outputs": [
    {
     "name": "stdout",
     "output_type": "stream",
     "text": [
      "[2, 4, 6, 8]\n",
      "[4, 6, 8, 10]\n",
      "28\n"
     ]
    }
   ],
   "source": [
    "from functools import reduce\n",
    "\n",
    "nums = [1,2,3,4,5,6,7,8,9]\n",
    "\n",
    "evens = list(filter(lambda n : n%2 == 0,nums))\n",
    "\n",
    "doubles = list(map(lambda n : n + 2, evens))\n",
    "\n",
    "num = reduce(lambda a, b: a + b,doubles)\n",
    "\n",
    "print(result)\n",
    "print(doubles)\n",
    "print(num)"
   ]
  },
  {
   "cell_type": "code",
   "execution_count": null,
   "id": "hearing-burke",
   "metadata": {},
   "outputs": [],
   "source": []
  }
 ],
 "metadata": {
  "kernelspec": {
   "display_name": "Python 3",
   "language": "python",
   "name": "python3"
  },
  "language_info": {
   "codemirror_mode": {
    "name": "ipython",
    "version": 3
   },
   "file_extension": ".py",
   "mimetype": "text/x-python",
   "name": "python",
   "nbconvert_exporter": "python",
   "pygments_lexer": "ipython3",
   "version": "3.8.5"
  }
 },
 "nbformat": 4,
 "nbformat_minor": 5
}
