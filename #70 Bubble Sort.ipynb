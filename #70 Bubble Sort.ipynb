{
 "cells": [
  {
   "cell_type": "markdown",
   "id": "retired-research",
   "metadata": {},
   "source": [
    "Bubble Sort using Python"
   ]
  },
  {
   "cell_type": "code",
   "execution_count": 2,
   "id": "victorian-bouquet",
   "metadata": {},
   "outputs": [
    {
     "name": "stdout",
     "output_type": "stream",
     "text": [
      "[1, 2, 3, 4, 5, 6, 7, 8, 9]\n"
     ]
    }
   ],
   "source": [
    "def sort(lst):\n",
    "    \n",
    "    for i in range(len(lst) - 1, 0, -1):\n",
    "        for j in range(i):\n",
    "            if lst[j] > lst[j+1]:\n",
    "                temp = lst[j]\n",
    "                lst[j] = lst[j+1]\n",
    "                lst[j+1] = temp\n",
    "    \n",
    "\n",
    "\n",
    "lst = [4,3,6,8,1,2,9,5,7]\n",
    "\n",
    "sort(lst)\n",
    "\n",
    "print(lst)\n"
   ]
  },
  {
   "cell_type": "code",
   "execution_count": null,
   "id": "dimensional-literacy",
   "metadata": {},
   "outputs": [],
   "source": []
  }
 ],
 "metadata": {
  "kernelspec": {
   "display_name": "Python 3",
   "language": "python",
   "name": "python3"
  },
  "language_info": {
   "codemirror_mode": {
    "name": "ipython",
    "version": 3
   },
   "file_extension": ".py",
   "mimetype": "text/x-python",
   "name": "python",
   "nbconvert_exporter": "python",
   "pygments_lexer": "ipython3",
   "version": "3.8.5"
  }
 },
 "nbformat": 4,
 "nbformat_minor": 5
}
