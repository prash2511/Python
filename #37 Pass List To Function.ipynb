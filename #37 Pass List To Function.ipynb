{
 "cells": [
  {
   "cell_type": "markdown",
   "id": "lined-sussex",
   "metadata": {},
   "source": [
    "Pass List to a Function in Python"
   ]
  },
  {
   "cell_type": "code",
   "execution_count": 17,
   "id": "suspended-combination",
   "metadata": {},
   "outputs": [
    {
     "name": "stdout",
     "output_type": "stream",
     "text": [
      "Even numbers:  4\n",
      "Odd numbers:  5\n"
     ]
    }
   ],
   "source": [
    "def count(lst):\n",
    "    \n",
    "    even = 0\n",
    "    odd = 0\n",
    "    \n",
    "    for i in lst:\n",
    "        if i % 2 == 0:\n",
    "            even = even + 1\n",
    "        else:\n",
    "            odd = odd + 1\n",
    "    print('Even numbers: ',even)\n",
    "    print('Odd numbers: ',odd)\n",
    "\n",
    "\n",
    "lst = [2, 3, 4, 5, 6, 7, 8, 9, 1]\n",
    "\n",
    "count(lst)\n"
   ]
  },
  {
   "cell_type": "code",
   "execution_count": 15,
   "id": "guilty-concrete",
   "metadata": {},
   "outputs": [
    {
     "name": "stdout",
     "output_type": "stream",
     "text": [
      "Even : 4 and Odd : 5\n"
     ]
    }
   ],
   "source": [
    "def count(lst):\n",
    "    \n",
    "    even = 0\n",
    "    odd = 0\n",
    "    \n",
    "    for i in lst:\n",
    "        if i % 2 == 0:\n",
    "            even = even + 1\n",
    "        else:\n",
    "            odd = odd + 1\n",
    "    return even, odd\n",
    "    print('Even numbers: ',even)\n",
    "    print('Odd numbers: ',odd)\n",
    "\n",
    "\n",
    "lst = [2, 3, 4, 5, 6, 7, 8, 9, 1]\n",
    "\n",
    "even,odd = count(lst)\n",
    "\n",
    "print('Even : {} and Odd : {}'.format(even,odd))"
   ]
  },
  {
   "cell_type": "markdown",
   "id": "molecular-madness",
   "metadata": {},
   "source": [
    "#####Assignment:\n",
    "take user input of 10 names and find how many of them have name length of more than 6 characters"
   ]
  },
  {
   "cell_type": "code",
   "execution_count": null,
   "id": "laughing-architecture",
   "metadata": {},
   "outputs": [],
   "source": [
    "lst = []\n",
    "\n",
    "for i in range(5):\n",
    "    inp = input('Enter a name: ')\n",
    "    lst.append(inp)\n",
    "    \n",
    "def fun(lst):\n",
    "    \n",
    "    big = 0\n",
    "    short = 0\n",
    "    \n",
    "    for name in lst:\n",
    "        if len(name) >= 6:\n",
    "            big = big + 1\n",
    "        else:\n",
    "            short = short + 1\n",
    "    \n",
    "    print('Big names are: ',big)\n",
    "    print('Short names are: ',short)\n",
    "\n",
    "fun(lst)"
   ]
  },
  {
   "cell_type": "code",
   "execution_count": null,
   "id": "built-surveillance",
   "metadata": {},
   "outputs": [],
   "source": [
    "lst = []\n",
    "\n",
    "for i in range(5):\n",
    "    inp = input('Enter a name: ')\n",
    "    lst.append(inp)\n",
    "    \n",
    "def fun(lst):\n",
    "    \n",
    "    big = 0\n",
    "    short = 0\n",
    "    \n",
    "    for name in lst:\n",
    "        if len(name) >= 6:\n",
    "            big = big + 1\n",
    "        else:\n",
    "            short = short + 1\n",
    "    return big, short\n",
    "\n",
    "big, short = fun(lst)\n",
    "\n",
    "print('Big names are: ',big)\n",
    "print('Short names are: ',short)"
   ]
  },
  {
   "cell_type": "code",
   "execution_count": null,
   "id": "conservative-burns",
   "metadata": {},
   "outputs": [],
   "source": []
  }
 ],
 "metadata": {
  "kernelspec": {
   "display_name": "Python 3",
   "language": "python",
   "name": "python3"
  },
  "language_info": {
   "codemirror_mode": {
    "name": "ipython",
    "version": 3
   },
   "file_extension": ".py",
   "mimetype": "text/x-python",
   "name": "python",
   "nbconvert_exporter": "python",
   "pygments_lexer": "ipython3",
   "version": "3.8.5"
  }
 },
 "nbformat": 4,
 "nbformat_minor": 5
}
