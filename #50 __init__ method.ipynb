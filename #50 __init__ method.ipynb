{
 "cells": [
  {
   "cell_type": "markdown",
   "id": "yellow-airline",
   "metadata": {},
   "source": [
    "__init__ method in python"
   ]
  },
  {
   "cell_type": "code",
   "execution_count": 4,
   "id": "analyzed-cutting",
   "metadata": {},
   "outputs": [
    {
     "name": "stdout",
     "output_type": "stream",
     "text": [
      "in init\n",
      "in init\n",
      "i5, 8GB, 1TB\n",
      "i5, 8GB, 1TB\n"
     ]
    }
   ],
   "source": [
    "class computer:\n",
    "    \n",
    "    def __init__(self, cpu, ram):\n",
    "        print('in init')\n",
    "    \n",
    "    def config(self):\n",
    "        print('i5, 8GB, 1TB')\n",
    "        \n",
    "\n",
    "com1 = computer('i5', 16)\n",
    "com2 = computer('Ryzen', 8)\n",
    "\n",
    "\n",
    "com1.config()\n",
    "com2.config()\n"
   ]
  },
  {
   "cell_type": "code",
   "execution_count": 6,
   "id": "administrative-glass",
   "metadata": {},
   "outputs": [
    {
     "name": "stdout",
     "output_type": "stream",
     "text": [
      "Config is  i5 16\n",
      "Config is  Ryzen3 8\n"
     ]
    }
   ],
   "source": [
    "class computer:\n",
    "    \n",
    "    def __init__(self, cpu, ram):\n",
    "        self.cpu = cpu\n",
    "        self.ram = ram\n",
    "    \n",
    "    def config(self):\n",
    "        print('Config is ', self.cpu, self.ram)\n",
    "        \n",
    "\n",
    "com1 = computer('i5', 16)\n",
    "com2 = computer('Ryzen3', 8)\n",
    "\n",
    "\n",
    "com1.config()\n",
    "com2.config()\n"
   ]
  },
  {
   "cell_type": "code",
   "execution_count": null,
   "id": "headed-hardwood",
   "metadata": {},
   "outputs": [],
   "source": []
  }
 ],
 "metadata": {
  "kernelspec": {
   "display_name": "Python 3",
   "language": "python",
   "name": "python3"
  },
  "language_info": {
   "codemirror_mode": {
    "name": "ipython",
    "version": 3
   },
   "file_extension": ".py",
   "mimetype": "text/x-python",
   "name": "python",
   "nbconvert_exporter": "python",
   "pygments_lexer": "ipython3",
   "version": "3.8.5"
  }
 },
 "nbformat": 4,
 "nbformat_minor": 5
}
