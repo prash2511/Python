{
 "cells": [
  {
   "cell_type": "markdown",
   "id": "incorporated-fiber",
   "metadata": {},
   "source": [
    "Copying Array in Python"
   ]
  },
  {
   "cell_type": "code",
   "execution_count": 1,
   "id": "yellow-turning",
   "metadata": {},
   "outputs": [
    {
     "name": "stdout",
     "output_type": "stream",
     "text": [
      "[1 2 3 4 5]\n"
     ]
    }
   ],
   "source": [
    "from numpy import*\n",
    "\n",
    "arr = array([1,2,3,4,5])\n",
    "\n",
    "print(arr)"
   ]
  },
  {
   "cell_type": "code",
   "execution_count": 4,
   "id": "metropolitan-hungarian",
   "metadata": {},
   "outputs": [
    {
     "name": "stdout",
     "output_type": "stream",
     "text": [
      "[ 6  7  8  9 10]\n"
     ]
    }
   ],
   "source": [
    "arr = array([1,2,3,4,5])\n",
    "arr = arr + 5\n",
    "print(arr)"
   ]
  },
  {
   "cell_type": "code",
   "execution_count": 20,
   "id": "ultimate-watson",
   "metadata": {},
   "outputs": [
    {
     "name": "stdout",
     "output_type": "stream",
     "text": [
      "[ 6  8 10 12 14]\n"
     ]
    }
   ],
   "source": [
    "arr1 = array([1,2,3,4,5])\n",
    "arr2 = array([5,6,7,8,9])\n",
    "\n",
    "print(arr1 + arr2)"
   ]
  },
  {
   "cell_type": "code",
   "execution_count": 6,
   "id": "linear-louisiana",
   "metadata": {},
   "outputs": [
    {
     "name": "stdout",
     "output_type": "stream",
     "text": [
      "[ 0.84147098  0.90929743  0.14112001 -0.7568025  -0.95892427]\n"
     ]
    }
   ],
   "source": [
    "arr = array([1,2,3,4,5])\n",
    "print(sin(arr))"
   ]
  },
  {
   "cell_type": "code",
   "execution_count": 8,
   "id": "equipped-toddler",
   "metadata": {},
   "outputs": [
    {
     "name": "stdout",
     "output_type": "stream",
     "text": [
      "[ 0.54030231 -0.41614684 -0.9899925  -0.65364362  0.28366219]\n"
     ]
    }
   ],
   "source": [
    "arr = array([1,2,3,4,5])\n",
    "print(cos(arr))"
   ]
  },
  {
   "cell_type": "code",
   "execution_count": 9,
   "id": "occupied-employment",
   "metadata": {},
   "outputs": [
    {
     "name": "stdout",
     "output_type": "stream",
     "text": [
      "[0.         0.69314718 1.09861229 1.38629436 1.60943791]\n"
     ]
    }
   ],
   "source": [
    "arr = array([1,2,3,4,5])\n",
    "print(log(arr))"
   ]
  },
  {
   "cell_type": "code",
   "execution_count": 10,
   "id": "military-action",
   "metadata": {},
   "outputs": [
    {
     "name": "stdout",
     "output_type": "stream",
     "text": [
      "[1.         1.41421356 1.73205081 2.         2.23606798]\n"
     ]
    }
   ],
   "source": [
    "arr = array([1,2,3,4,5])\n",
    "print(sqrt(arr))"
   ]
  },
  {
   "cell_type": "code",
   "execution_count": 11,
   "id": "forty-module",
   "metadata": {},
   "outputs": [
    {
     "name": "stdout",
     "output_type": "stream",
     "text": [
      "15\n"
     ]
    }
   ],
   "source": [
    "arr = array([1,2,3,4,5])\n",
    "print(sum(arr))"
   ]
  },
  {
   "cell_type": "code",
   "execution_count": 12,
   "id": "pharmaceutical-positive",
   "metadata": {},
   "outputs": [
    {
     "name": "stdout",
     "output_type": "stream",
     "text": [
      "1\n"
     ]
    }
   ],
   "source": [
    "print(min(arr))"
   ]
  },
  {
   "cell_type": "code",
   "execution_count": 13,
   "id": "accessible-tradition",
   "metadata": {},
   "outputs": [
    {
     "name": "stdout",
     "output_type": "stream",
     "text": [
      "5\n"
     ]
    }
   ],
   "source": [
    "print(max(arr))"
   ]
  },
  {
   "cell_type": "code",
   "execution_count": 21,
   "id": "palestinian-manner",
   "metadata": {},
   "outputs": [
    {
     "name": "stdout",
     "output_type": "stream",
     "text": [
      "[1 2 3 4 5 5 6 7 8 9]\n"
     ]
    }
   ],
   "source": [
    "print(concatenate([arr1,arr2]))"
   ]
  },
  {
   "cell_type": "code",
   "execution_count": 23,
   "id": "pregnant-summary",
   "metadata": {},
   "outputs": [
    {
     "name": "stdout",
     "output_type": "stream",
     "text": [
      "[5 6 7 8 9]\n",
      "[5 6 7 8 9]\n",
      "1884153480256\n",
      "1884153480256\n"
     ]
    }
   ],
   "source": [
    "# copying array\n",
    "\n",
    "arr1 = arr2\n",
    "\n",
    "print(arr1)\n",
    "print(arr2)\n",
    "\n",
    "print(id(arr1))\n",
    "print(id(arr2))"
   ]
  },
  {
   "cell_type": "code",
   "execution_count": 28,
   "id": "involved-submission",
   "metadata": {},
   "outputs": [
    {
     "name": "stdout",
     "output_type": "stream",
     "text": [
      "[7 6 7 8 9]\n",
      "[7 6 7 8 9]\n",
      "1884153480256\n",
      "1884153482496\n"
     ]
    }
   ],
   "source": [
    "# copying array (shallow copy - copied array will be dependent on original array)\n",
    "\n",
    "arr2 = arr1.view()\n",
    "\n",
    "print(arr1)\n",
    "print(arr2)\n",
    "\n",
    "print(id(arr1))\n",
    "print(id(arr2))"
   ]
  },
  {
   "cell_type": "code",
   "execution_count": 29,
   "id": "numerous-monday",
   "metadata": {},
   "outputs": [
    {
     "name": "stdout",
     "output_type": "stream",
     "text": [
      "[7 6 7 8 9]\n",
      "[7 6 7 8 9]\n",
      "1884153480256\n",
      "1884152879744\n"
     ]
    }
   ],
   "source": [
    "# copying array (deep copy - copied array don't get affected by change in original array)\n",
    "\n",
    "arr2 = arr1.copy()\n",
    "\n",
    "print(arr1)\n",
    "print(arr2)\n",
    "\n",
    "print(id(arr1))\n",
    "print(id(arr2))"
   ]
  },
  {
   "cell_type": "code",
   "execution_count": null,
   "id": "basic-courage",
   "metadata": {},
   "outputs": [],
   "source": []
  }
 ],
 "metadata": {
  "kernelspec": {
   "display_name": "Python 3",
   "language": "python",
   "name": "python3"
  },
  "language_info": {
   "codemirror_mode": {
    "name": "ipython",
    "version": 3
   },
   "file_extension": ".py",
   "mimetype": "text/x-python",
   "name": "python",
   "nbconvert_exporter": "python",
   "pygments_lexer": "ipython3",
   "version": "3.8.5"
  }
 },
 "nbformat": 4,
 "nbformat_minor": 5
}
