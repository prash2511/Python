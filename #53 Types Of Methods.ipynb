{
 "cells": [
  {
   "cell_type": "markdown",
   "id": "responsible-symphony",
   "metadata": {},
   "source": [
    "#Types of Methods in Python\n",
    "\n",
    "1] Instance methods -\n",
    "\n",
    "    i) Accessor methods\n",
    "   \n",
    "    ii) Mutator methods\n",
    "\n",
    "2] Class methods\n",
    "\n",
    "3] Static methods"
   ]
  },
  {
   "cell_type": "code",
   "execution_count": 23,
   "id": "exotic-offering",
   "metadata": {},
   "outputs": [
    {
     "name": "stdout",
     "output_type": "stream",
     "text": [
      "22.0\n",
      "24.333333333333332\n"
     ]
    }
   ],
   "source": [
    "class students:\n",
    "    \n",
    "    school = 'Prash University'\n",
    "    \n",
    "    def __init__(self, m1, m2, m3):\n",
    "        self.m1 = m1\n",
    "        self.m2 = m2\n",
    "        self.m3 = m3\n",
    "        \n",
    "    def avg(self):                                           #Instance method\n",
    "        return (self.m1 + self.m2 + self.m3) / 3\n",
    "    \n",
    "\n",
    "s1 = students(14, 22, 30)\n",
    "s2 = students(20, 26, 27)\n",
    "\n",
    "print(s1.avg())\n",
    "print(s2.avg())"
   ]
  },
  {
   "cell_type": "code",
   "execution_count": 24,
   "id": "secret-interview",
   "metadata": {},
   "outputs": [
    {
     "name": "stdout",
     "output_type": "stream",
     "text": [
      "22.0\n",
      "24.333333333333332\n"
     ]
    }
   ],
   "source": [
    "class students:\n",
    "    \n",
    "    school = 'Prash University'\n",
    "\n",
    "    def __init__(self, m1, m2, m3):\n",
    "        self.m1 = m1\n",
    "        self.m2 = m2\n",
    "        self.m3 = m3\n",
    "        \n",
    "    def avg(self):                                           #Instance method\n",
    "        return (self.m1 + self.m2 + self.m3) / 3\n",
    "    \n",
    "    def get_m1(self):                                        #Accessor method\n",
    "        return self.m1\n",
    "    \n",
    "    def set_m1(self, value):                                 #Mutator method\n",
    "        self.m1 = value\n",
    "    \n",
    "\n",
    "s1 = students(14, 22, 30)\n",
    "s2 = students(20, 26, 27)\n",
    "\n",
    "print(s1.avg())\n",
    "print(s2.avg())"
   ]
  },
  {
   "cell_type": "code",
   "execution_count": 26,
   "id": "forbidden-private",
   "metadata": {},
   "outputs": [
    {
     "name": "stdout",
     "output_type": "stream",
     "text": [
      "22.0\n",
      "24.333333333333332\n",
      "Prash University\n"
     ]
    }
   ],
   "source": [
    "class students:\n",
    "    \n",
    "    school = 'Prash University'\n",
    "\n",
    "    def __init__(self, m1, m2, m3):\n",
    "        self.m1 = m1\n",
    "        self.m2 = m2\n",
    "        self.m3 = m3\n",
    "        \n",
    "    def avg(self):                                           #Instance method ---> 'self'\n",
    "        return (self.m1 + self.m2 + self.m3) / 3\n",
    "    \n",
    "    \n",
    "    @classmethod\n",
    "    def getSchool(cls):                                           #class method ---> 'cls'\n",
    "        return cls.school\n",
    "    \n",
    "\n",
    "s1 = students(14, 22, 30)\n",
    "s2 = students(20, 26, 27)\n",
    "\n",
    "print(s1.avg())\n",
    "print(s2.avg())\n",
    "\n",
    "print(students.getSchool())"
   ]
  },
  {
   "cell_type": "code",
   "execution_count": 28,
   "id": "dominant-macedonia",
   "metadata": {},
   "outputs": [
    {
     "name": "stdout",
     "output_type": "stream",
     "text": [
      "22.0\n",
      "24.333333333333332\n",
      "Prash University\n",
      "This is students Class... in abc module\n"
     ]
    }
   ],
   "source": [
    "class students:\n",
    "    \n",
    "    school = 'Prash University'\n",
    "\n",
    "    def __init__(self, m1, m2, m3):\n",
    "        self.m1 = m1\n",
    "        self.m2 = m2\n",
    "        self.m3 = m3\n",
    "        \n",
    "    def avg(self):                                              #Instance method ---> 'self'\n",
    "        return (self.m1 + self.m2 + self.m3) / 3\n",
    "    \n",
    "    \n",
    "    @classmethod                                                #decorator for class method\n",
    "    def getSchool(cls):                                         #class method ---> 'cls'\n",
    "        return cls.school\n",
    "    \n",
    "    @staticmethod                                               #decorator for static method\n",
    "    def info():                                                 #static method\n",
    "        print('This is students Class... in abc module')\n",
    "    \n",
    "\n",
    "s1 = students(14, 22, 30)\n",
    "s2 = students(20, 26, 27)\n",
    "\n",
    "print(s1.avg())\n",
    "print(s2.avg())\n",
    "\n",
    "print(students.getSchool())\n",
    "\n",
    "students.info()"
   ]
  },
  {
   "cell_type": "code",
   "execution_count": null,
   "id": "described-empty",
   "metadata": {},
   "outputs": [],
   "source": []
  }
 ],
 "metadata": {
  "kernelspec": {
   "display_name": "Python 3",
   "language": "python",
   "name": "python3"
  },
  "language_info": {
   "codemirror_mode": {
    "name": "ipython",
    "version": 3
   },
   "file_extension": ".py",
   "mimetype": "text/x-python",
   "name": "python",
   "nbconvert_exporter": "python",
   "pygments_lexer": "ipython3",
   "version": "3.8.5"
  }
 },
 "nbformat": 4,
 "nbformat_minor": 5
}
