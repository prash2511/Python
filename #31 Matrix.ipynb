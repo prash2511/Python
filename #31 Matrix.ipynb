{
 "cells": [
  {
   "cell_type": "markdown",
   "id": "pharmaceutical-metadata",
   "metadata": {},
   "source": [
    "Working with Matrix in Python"
   ]
  },
  {
   "cell_type": "code",
   "execution_count": 15,
   "id": "ruled-blackjack",
   "metadata": {},
   "outputs": [
    {
     "name": "stdout",
     "output_type": "stream",
     "text": [
      "[[1 2 3 4 5 6]\n",
      " [2 5 8 9 3 1]]\n"
     ]
    }
   ],
   "source": [
    "from numpy import*\n",
    "\n",
    "arr1 = array([\n",
    "             \n",
    "              [1,2,3,4,5,6],\n",
    "              [2,5,8,9,3,1]\n",
    "    \n",
    "              ])\n",
    "\n",
    "print(arr1)"
   ]
  },
  {
   "cell_type": "code",
   "execution_count": 16,
   "id": "annoying-cardiff",
   "metadata": {},
   "outputs": [
    {
     "name": "stdout",
     "output_type": "stream",
     "text": [
      "int32\n"
     ]
    }
   ],
   "source": [
    "print(arr1.dtype) #array type"
   ]
  },
  {
   "cell_type": "code",
   "execution_count": 17,
   "id": "arbitrary-hydrogen",
   "metadata": {},
   "outputs": [
    {
     "name": "stdout",
     "output_type": "stream",
     "text": [
      "2\n"
     ]
    }
   ],
   "source": [
    "print(arr1.ndim) #dimentions"
   ]
  },
  {
   "cell_type": "code",
   "execution_count": 18,
   "id": "ordinary-groove",
   "metadata": {},
   "outputs": [
    {
     "name": "stdout",
     "output_type": "stream",
     "text": [
      "(2, 6)\n"
     ]
    }
   ],
   "source": [
    "print(arr1.shape)"
   ]
  },
  {
   "cell_type": "code",
   "execution_count": 19,
   "id": "vital-kuwait",
   "metadata": {},
   "outputs": [
    {
     "name": "stdout",
     "output_type": "stream",
     "text": [
      "12\n"
     ]
    }
   ],
   "source": [
    "print(arr1.size)"
   ]
  },
  {
   "cell_type": "code",
   "execution_count": 20,
   "id": "resistant-purse",
   "metadata": {},
   "outputs": [
    {
     "name": "stdout",
     "output_type": "stream",
     "text": [
      "[1 2 3 4 5 6 2 5 8 9 3 1]\n"
     ]
    }
   ],
   "source": [
    "arr2 = arr1.flatten()\n",
    "\n",
    "print(arr2)"
   ]
  },
  {
   "cell_type": "code",
   "execution_count": 24,
   "id": "regional-uruguay",
   "metadata": {},
   "outputs": [
    {
     "name": "stdout",
     "output_type": "stream",
     "text": [
      "[[1 2 3 4]\n",
      " [5 6 2 5]\n",
      " [8 9 3 1]]\n"
     ]
    }
   ],
   "source": [
    "arr3 = arr2.reshape(3,4)\n",
    "print(arr3)"
   ]
  },
  {
   "cell_type": "code",
   "execution_count": 25,
   "id": "extensive-tongue",
   "metadata": {},
   "outputs": [
    {
     "name": "stdout",
     "output_type": "stream",
     "text": [
      "[[[1 2 3]\n",
      "  [4 5 6]]\n",
      "\n",
      " [[2 5 8]\n",
      "  [9 3 1]]]\n"
     ]
    }
   ],
   "source": [
    "arr3 = arr2.reshape(2,2,3)\n",
    "print(arr3)"
   ]
  },
  {
   "cell_type": "code",
   "execution_count": 26,
   "id": "conceptual-carbon",
   "metadata": {},
   "outputs": [
    {
     "name": "stdout",
     "output_type": "stream",
     "text": [
      "[[1 2 3 4]\n",
      " [5 6 7 8]]\n"
     ]
    }
   ],
   "source": [
    "arr = array([\n",
    "             \n",
    "              [1,2,3,4],\n",
    "              [5,6,7,8]\n",
    "    \n",
    "              ])\n",
    "print(arr)"
   ]
  },
  {
   "cell_type": "code",
   "execution_count": 27,
   "id": "lined-former",
   "metadata": {},
   "outputs": [
    {
     "name": "stdout",
     "output_type": "stream",
     "text": [
      "[[1 2 3 4]\n",
      " [5 6 7 8]]\n"
     ]
    }
   ],
   "source": [
    "arr = array([\n",
    "             \n",
    "              [1,2,3,4],\n",
    "              [5,6,7,8]\n",
    "    \n",
    "              ])\n",
    "m = matrix(arr)\n",
    "print(m)"
   ]
  },
  {
   "cell_type": "code",
   "execution_count": 33,
   "id": "aggressive-disposition",
   "metadata": {},
   "outputs": [
    {
     "name": "stdout",
     "output_type": "stream",
     "text": [
      "[[2 3]\n",
      " [4 5]\n",
      " [6 7]\n",
      " [8 9]]\n"
     ]
    }
   ],
   "source": [
    "m = matrix('2 3 ; 4 5 ; 6 7; 8 9')\n",
    "print(m)"
   ]
  },
  {
   "cell_type": "code",
   "execution_count": 34,
   "id": "sublime-montgomery",
   "metadata": {},
   "outputs": [
    {
     "name": "stdout",
     "output_type": "stream",
     "text": [
      "[[2 3 4]\n",
      " [5 6 7]\n",
      " [8 9 1]]\n"
     ]
    }
   ],
   "source": [
    "m = matrix('2 3 4 ; 5 6 7 ; 8 9 1')\n",
    "print(m)"
   ]
  },
  {
   "cell_type": "code",
   "execution_count": 35,
   "id": "interim-portland",
   "metadata": {},
   "outputs": [
    {
     "name": "stdout",
     "output_type": "stream",
     "text": [
      "[2 6 1]\n"
     ]
    }
   ],
   "source": [
    "print(diagonal(m))"
   ]
  },
  {
   "cell_type": "code",
   "execution_count": 36,
   "id": "varied-texture",
   "metadata": {},
   "outputs": [
    {
     "name": "stdout",
     "output_type": "stream",
     "text": [
      "1\n"
     ]
    }
   ],
   "source": [
    "print(m.min())"
   ]
  },
  {
   "cell_type": "code",
   "execution_count": 37,
   "id": "exclusive-edinburgh",
   "metadata": {},
   "outputs": [
    {
     "name": "stdout",
     "output_type": "stream",
     "text": [
      "9\n"
     ]
    }
   ],
   "source": [
    "print(m.max())"
   ]
  },
  {
   "cell_type": "code",
   "execution_count": 38,
   "id": "subsequent-being",
   "metadata": {},
   "outputs": [
    {
     "name": "stdout",
     "output_type": "stream",
     "text": [
      "[[10 10 10]\n",
      " [10 10 10]\n",
      " [10 10 10]]\n"
     ]
    }
   ],
   "source": [
    "m1 = matrix('2 3 4 ; 5 6 7 ; 8 9 1')\n",
    "m2 = matrix('8 7 6 ; 5 4 3 ; 2 1 9')\n",
    "\n",
    "m3 = m1 + m2\n",
    "print(m3)"
   ]
  },
  {
   "cell_type": "code",
   "execution_count": 39,
   "id": "objective-chosen",
   "metadata": {},
   "outputs": [
    {
     "name": "stdout",
     "output_type": "stream",
     "text": [
      "[[ 39  30  57]\n",
      " [ 84  66 111]\n",
      " [111  93  84]]\n"
     ]
    }
   ],
   "source": [
    "m1 = matrix('2 3 4 ; 5 6 7 ; 8 9 1')\n",
    "m2 = matrix('8 7 6 ; 5 4 3 ; 2 1 9')\n",
    "\n",
    "m3 = m1 * m2\n",
    "print(m3)"
   ]
  },
  {
   "cell_type": "code",
   "execution_count": null,
   "id": "mexican-addition",
   "metadata": {},
   "outputs": [],
   "source": []
  }
 ],
 "metadata": {
  "kernelspec": {
   "display_name": "Python 3",
   "language": "python",
   "name": "python3"
  },
  "language_info": {
   "codemirror_mode": {
    "name": "ipython",
    "version": 3
   },
   "file_extension": ".py",
   "mimetype": "text/x-python",
   "name": "python",
   "nbconvert_exporter": "python",
   "pygments_lexer": "ipython3",
   "version": "3.8.5"
  }
 },
 "nbformat": 4,
 "nbformat_minor": 5
}
